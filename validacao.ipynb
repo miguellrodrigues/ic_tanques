{
 "cells": [
  {
   "cell_type": "code",
   "execution_count": 249,
   "metadata": {},
   "outputs": [],
   "source": [
    "import numpy as np\n",
    "import matplotlib.pyplot as plt\n",
    "import sympy as sp\n",
    "\n",
    "from scipy.optimize import minimize\n",
    "from scipy.integrate import solve_ivp\n",
    "from scipy.interpolate import approximate_taylor_polynomial"
   ]
  },
  {
   "cell_type": "code",
   "execution_count": 250,
   "metadata": {},
   "outputs": [],
   "source": [
    "from numpy import sqrt, sin, cos, log, pi, e"
   ]
  },
  {
   "cell_type": "code",
   "execution_count": 251,
   "metadata": {},
   "outputs": [],
   "source": [
    "plt.style.use([\n",
    "    'notebook',\n",
    "    'grid',\n",
    "    {'figure.dpi': 150}\n",
    "])"
   ]
  },
  {
   "cell_type": "code",
   "execution_count": 252,
   "metadata": {},
   "outputs": [],
   "source": [
    "# dados simulacao\n",
    "\n",
    "r = .31\n",
    "mu = .4\n",
    "sigma = .55\n",
    "a4 = .3019"
   ]
  },
  {
   "cell_type": "code",
   "execution_count": 253,
   "metadata": {},
   "outputs": [],
   "source": [
    "# dSdt\n",
    "\n",
    "def dSdt(_, s, u, a_1, a_2, a_3, b_1, b_2, b_3):\n",
    "    h3, h4 = s\n",
    "\n",
    "    if h3 < 0:\n",
    "        h3 = 0\n",
    "    \n",
    "    q_out = (a_1 * sqrt(h3) + b_1) * 10e-5\n",
    "    q_in = (a_2 * u + b_2) * 10e-5\n",
    "    q_com = (a_3*(h4 - h3) + b_3) * 10e-5\n",
    "\n",
    "    z = 2.5*np.pi*((h3-8)/100) - mu\n",
    "    w = -((((h3-8)/100)-mu)**2)/(2*sigma**2)\n",
    "\n",
    "    taylor_z = (1 - (z**2/2) + (z**4/24) - (z**6/720) + (z**8/40320))\n",
    "    taylor_w = (1 + w + (w**2/2) + (w**3/6) + (w**4/24))\n",
    "\n",
    "    a3 = (3*r/5)*(2.7*r - (1/(6*sqrt(2*pi)))*taylor_z*taylor_w)\n",
    "\n",
    "    h3_dot = (q_com - q_out) / a3\n",
    "    h4_dot = (q_in - q_com) / a4\n",
    "\n",
    "    return [h3_dot, h4_dot]"
   ]
  },
  {
   "cell_type": "code",
   "execution_count": 254,
   "metadata": {},
   "outputs": [],
   "source": [
    "def non_linear_space_state(_, s, u, a_1, a_2, a_3, b_1, b_2, b_3):\n",
    "   h3, h4 = s\n",
    "\n",
    "   if h3 < 0:\n",
    "      h3 = 0\n",
    "\n",
    "   z1 = np.sqrt(h3)\n",
    "   z2 = np.cos(2.5*np.pi * (h4 - mu)) / (sigma * np.sqrt(2 * np.pi))\n",
    "   z3 = np.exp(-((h4 - mu)**2) / (2 * sigma**2))\n",
    "\n",
    "   a3 = ((3*r)/5) * (2.7*r - (z2 * z3))\n",
    "\n",
    "   beta = (b_3 - b_1) / (a3 * h3)\n",
    "   zeta = (b_2 - b_3) / (a4 * h4)\n",
    "\n",
    "   A = np.array([\n",
    "      [-(a_3/a3) -((a_1*z1)/(a3*h3)) + beta, (a_3/a3)],\n",
    "      [(a_3/a4), -(a_3/a4) + zeta]\n",
    "   ])\n",
    "\n",
    "   B = np.array([\n",
    "      [0],\n",
    "      [a_2/a4]\n",
    "   ])\n",
    "\n",
    "   h = np.array([\n",
    "      [h3],\n",
    "      [h4]\n",
    "   ])\n",
    "\n",
    "   return 10e-5 * (A@h + B*u).flatten()"
   ]
  },
  {
   "cell_type": "code",
   "execution_count": 255,
   "metadata": {},
   "outputs": [],
   "source": [
    "def simulate(s_0, coefficients, sim_time, sim_step, control_signal):\n",
    "    time = np.arange(sim_time[0], sim_time[1], sim_step)\n",
    "    time_span = [time[0], time[-1]]\n",
    "\n",
    "    args = [control_signal]\n",
    "    args = args + [coefficients[i] for i in range(len(coefficients))]\n",
    "\n",
    "    s = solve_ivp(\n",
    "        non_linear_space_state,\n",
    "        y0=s_0,\n",
    "        args=args,\n",
    "        t_span=time_span,\n",
    "        t_eval=time,\n",
    "    )\n",
    "\n",
    "    return s"
   ]
  },
  {
   "cell_type": "code",
   "execution_count": 256,
   "metadata": {},
   "outputs": [],
   "source": [
    "c = np.array([165.48, 16.46, 29.4, -147.01, -156.93, -83.93])\n",
    "\n",
    "sol = simulate(\n",
    "    [1e-3, 1e-3],\n",
    "    c,\n",
    "    [0, 2500],\n",
    "    1,\n",
    "    42\n",
    ")"
   ]
  },
  {
   "cell_type": "code",
   "execution_count": 257,
   "metadata": {},
   "outputs": [],
   "source": [
    "sim_steps = np.array([\n",
    "    1,\n",
    "    1,\n",
    "    1,\n",
    "    1,\n",
    "    1\n",
    "])\n",
    "\n",
    "sim_control_signals = np.array([42, 37, 28, 55, 47])\n",
    "\n",
    "def multiple_inputs_simulation(coefficients):\n",
    "    s_0 = [1e-3, 1e-3]\n",
    "    sim_time = [0, 2500]\n",
    "\n",
    "    solutions = []\n",
    "\n",
    "    last_s = s_0\n",
    "    last_t = sim_time\n",
    "\n",
    "    for i in range(len(sim_steps)):\n",
    "        s = simulate(\n",
    "            last_s,\n",
    "            coefficients,\n",
    "            last_t,\n",
    "            sim_steps[i], \n",
    "            sim_control_signals[i]\n",
    "        )\n",
    "\n",
    "        last_s = s.y[:,-1]\n",
    "        last_t = [last_t[-1], last_t[-1] + 2500]\n",
    "\n",
    "        solutions.append(s)\n",
    "\n",
    "\n",
    "    return solutions"
   ]
  },
  {
   "cell_type": "code",
   "execution_count": 258,
   "metadata": {},
   "outputs": [
    {
     "data": {
      "text/plain": [
       "<matplotlib.legend.Legend at 0x7fbf9195c3d0>"
      ]
     },
     "execution_count": 258,
     "metadata": {},
     "output_type": "execute_result"
    }
   ],
   "source": [
    "real_time = np.load('./data/t.npy')\n",
    "level3 = np.load('./data/level3.npy')\n",
    "level4 = np.load('./data/level4.npy')\n",
    "\n",
    "# removing the noise using moving average\n",
    "def moving_average(a, n=3):\n",
    "    ret = np.cumsum(a, dtype=float)\n",
    "    ret[n:] = ret[n:] - ret[:-n]\n",
    "    return ret[n - 1:] / n\n",
    "\n",
    "\n",
    "filtered_level3 = moving_average(level3, n=100)\n",
    "filtered_level4 = moving_average(level4, n=100)\n",
    "\n",
    "plt.plot(level3)\n",
    "plt.plot(level4)\n",
    "\n",
    "plt.plot(filtered_level3, label='h3')\n",
    "plt.plot(filtered_level4, label='h4')\n",
    "plt.legend()"
   ]
  },
  {
   "cell_type": "code",
   "execution_count": 259,
   "metadata": {},
   "outputs": [],
   "source": [
    "sol = simulate(\n",
    "    [1e-3, 1e-3],\n",
    "    [165.48, 16.46, 29.4, -147.01, -156.93, -83.93],\n",
    "    [0, 60],\n",
    "    1,\n",
    "    50\n",
    ")"
   ]
  },
  {
   "cell_type": "code",
   "execution_count": 260,
   "metadata": {},
   "outputs": [],
   "source": [
    "solutions = multiple_inputs_simulation(\n",
    "    [165.48, 16.46, 29.4, -147.01, -156.93, -83.93]\n",
    ")\n",
    "\n",
    "y = np.hstack([s.y for s in solutions])\n",
    "t = np.hstack([s.t for s in solutions])\n",
    "\n",
    "h3 = y[0, :]\n",
    "h4 = y[1, :]"
   ]
  },
  {
   "cell_type": "code",
   "execution_count": 261,
   "metadata": {},
   "outputs": [],
   "source": [
    "t = t[:len(level3)]\n",
    "h3 = h3[:len(level3)]\n",
    "h4 = h4[:len(level3)]"
   ]
  },
  {
   "cell_type": "code",
   "execution_count": 262,
   "metadata": {},
   "outputs": [
    {
     "data": {
      "text/plain": [
       "<matplotlib.legend.Legend at 0x7fbf90c6ff70>"
      ]
     },
     "execution_count": 262,
     "metadata": {},
     "output_type": "execute_result"
    }
   ],
   "source": [
    "%matplotlib qt\n",
    "plt.plot(t, level4, label='h4 (real)')\n",
    "plt.plot(t, h4, label='h4 (simulado)')\n",
    "\n",
    "plt.plot(t, level3, label='h3 (real)')\n",
    "plt.plot(t, h3, label='h3 (simulado)')\n",
    "\n",
    "plt.legend()"
   ]
  }
 ],
 "metadata": {
  "kernelspec": {
   "display_name": "Python 3.10.4 64-bit",
   "language": "python",
   "name": "python3"
  },
  "language_info": {
   "codemirror_mode": {
    "name": "ipython",
    "version": 3
   },
   "file_extension": ".py",
   "mimetype": "text/x-python",
   "name": "python",
   "nbconvert_exporter": "python",
   "pygments_lexer": "ipython3",
   "version": "3.10.4"
  },
  "orig_nbformat": 4,
  "vscode": {
   "interpreter": {
    "hash": "e7370f93d1d0cde622a1f8e1c04877d8463912d04d973331ad4851f04de6915a"
   }
  }
 },
 "nbformat": 4,
 "nbformat_minor": 2
}
