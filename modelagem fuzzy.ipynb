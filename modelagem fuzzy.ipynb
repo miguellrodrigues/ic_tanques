{
 "cells": [
  {
   "cell_type": "code",
   "execution_count": 11,
   "metadata": {},
   "outputs": [],
   "source": [
    "import sympy as sp\n",
    "import numpy as np\n",
    "import matplotlib.pyplot as plt\n",
    "from scipy.integrate import solve_ivp\n",
    "\n",
    "plt.style.use([\n",
    "    'grid',\n",
    "    'notebook'\n",
    "])"
   ]
  },
  {
   "cell_type": "code",
   "execution_count": 12,
   "metadata": {},
   "outputs": [],
   "source": [
    "t = sp.Symbol('t')\n",
    "\n",
    "u = sp.Function('u')(t)\n",
    "h3 = sp.Function('h3')(t)\n",
    "h4 = sp.Function('h4')(t)\n",
    "\n",
    "k1, k2, k3 = sp.symbols('k_1 k_2 k_3')\n",
    "b1, b2, b3 = sp.symbols('b_1 b_2 b_3')\n",
    "\n",
    "a3 = sp.Symbol('a_3')\n",
    "a4 = sp.Symbol('a_4')\n",
    "\n",
    "R43 = sp.Symbol('R_{43}')# k2*(h4 - h3) + b2\n",
    "\n",
    "# vazoes\n",
    "# q_in = k1*u + b1\n",
    "# q_43 = (h4 - h3) / R43\n",
    "# q_out = k3 * sp.sqrt(h3) + b3\n",
    "\n",
    "q_in = sp.Symbol('q_in')\n",
    "q_43 = sp.Symbol('q_43')\n",
    "q_out = sp.Symbol('q_out')\n",
    "\n",
    "A = sp.Matrix([\n",
    "    [-1/(R43 * a3), (h3 - q_out*R43)/(R43*a3*h3)],\n",
    "    [1/(R43*a4), -(h4 - b1*R43)/(R43*a4*h4)]\n",
    "])\n",
    "\n",
    "B = sp.Matrix([\n",
    "    [0],\n",
    "    [k1/a4],\n",
    "])"
   ]
  },
  {
   "cell_type": "code",
   "execution_count": 13,
   "metadata": {},
   "outputs": [],
   "source": [
    "# discretizacao\n",
    "Ts = sp.Symbol('T_s')\n",
    "\n",
    "A_disc = sp.simplify(A * Ts + sp.eye(2))\n",
    "B_disc = B * Ts"
   ]
  },
  {
   "cell_type": "code",
   "execution_count": 14,
   "metadata": {},
   "outputs": [
    {
     "data": {
      "text/latex": [
       "$\\displaystyle \\left[\\begin{matrix}1 - \\frac{T_{s}}{R_{43} a_{3}} & - \\frac{T_{s} q_{out}}{a_{3} \\operatorname{h_{3}}{\\left(t \\right)}} + \\frac{T_{s}}{R_{43} a_{3}}\\\\\\frac{T_{s}}{R_{43} a_{4}} & \\frac{T_{s} b_{1}}{a_{4} \\operatorname{h_{4}}{\\left(t \\right)}} + 1 - \\frac{T_{s}}{R_{43} a_{4}}\\end{matrix}\\right]$"
      ],
      "text/plain": [
       "Matrix([\n",
       "[1 - T_s/(R_{43}*a_3),  -T_s*q_out/(a_3*h3(t)) + T_s/(R_{43}*a_3)],\n",
       "[    T_s/(R_{43}*a_4), T_s*b_1/(a_4*h4(t)) + 1 - T_s/(R_{43}*a_4)]])"
      ]
     },
     "execution_count": 14,
     "metadata": {},
     "output_type": "execute_result"
    }
   ],
   "source": [
    "A_disc"
   ]
  },
  {
   "cell_type": "code",
   "execution_count": 15,
   "metadata": {},
   "outputs": [
    {
     "data": {
      "text/latex": [
       "$\\displaystyle \\left[\\begin{matrix}- Z_{1} Z_{3} + 1 & Z_{1} Z_{3} - Z_{2} Z_{3}\\\\\\frac{Z_{1}}{a_{4}} & - \\frac{Z_{1}}{a_{4}} + 1\\end{matrix}\\right]$"
      ],
      "text/plain": [
       "Matrix([\n",
       "[-Z_1*Z_3 + 1, Z_1*Z_3 - Z_2*Z_3],\n",
       "[     Z_1/a_4,      -Z_1/a_4 + 1]])"
      ]
     },
     "execution_count": 15,
     "metadata": {},
     "output_type": "execute_result"
    }
   ],
   "source": [
    "# premissas\n",
    "_Z1 = Ts / R43\n",
    "_Z2 = (Ts*q_out) / h3\n",
    "_Z3 = 1/a3\n",
    "\n",
    "Z1, Z2, Z3 = sp.symbols('Z_1 Z_2 Z_3')\n",
    "\n",
    "sp.simplify(A_disc).subs({\n",
    "    _Z1: Z1,\n",
    "    _Z2: Z2,\n",
    "    _Z3: Z3,\n",
    "    b1: 0\n",
    "})"
   ]
  }
 ],
 "metadata": {
  "kernelspec": {
   "display_name": "Python 3.8.10 64-bit",
   "language": "python",
   "name": "python3"
  },
  "language_info": {
   "codemirror_mode": {
    "name": "ipython",
    "version": 3
   },
   "file_extension": ".py",
   "mimetype": "text/x-python",
   "name": "python",
   "nbconvert_exporter": "python",
   "pygments_lexer": "ipython3",
   "version": "3.10.6"
  },
  "orig_nbformat": 4,
  "vscode": {
   "interpreter": {
    "hash": "31f2aee4e71d21fbe5cf8b01ff0e069b9275f58929596ceb00d14d90e3e16cd6"
   }
  }
 },
 "nbformat": 4,
 "nbformat_minor": 2
}
