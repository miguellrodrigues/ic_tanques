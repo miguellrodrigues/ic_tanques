{
 "cells": [
  {
   "cell_type": "code",
   "execution_count": 31,
   "metadata": {},
   "outputs": [],
   "source": [
    "import numpy as np\n",
    "import sympy as sp\n",
    "import matplotlib.pyplot as plt\n",
    "\n",
    "np.set_printoptions(6, suppress=True)\n",
    "\n",
    "plt.style.use([\n",
    "    'grid',\n",
    "    'notebook'\n",
    "])"
   ]
  },
  {
   "cell_type": "code",
   "execution_count": 32,
   "metadata": {},
   "outputs": [],
   "source": [
    "A_vertices = []\n",
    "B_vertices = []\n",
    "\n",
    "Ts = .5\n",
    "\n",
    "r = .31\n",
    "mu = .40\n",
    "sigma = .55\n",
    "A2 = .3019\n",
    "\n",
    "Kb = 15.92*10e-4"
   ]
  },
  {
   "cell_type": "code",
   "execution_count": 33,
   "metadata": {},
   "outputs": [
    {
     "name": "stdout",
     "output_type": "stream",
     "text": [
      "[2.741446 0.997208]\n",
      "[6.615663 0.995366]\n",
      "[2.737895 0.993473]\n",
      "[6.614557 0.989184]\n",
      "[-6.797138  0.997214]\n",
      "[-24.100898   0.995366]\n",
      "[-6.800713  0.993501]\n",
      "[-24.102008   0.989189]\n"
     ]
    }
   ],
   "source": [
    "z1_bounds = np.array([-.5160, 2.3060])\n",
    "z2_bounds = np.array([.0033, .0077])\n",
    "z3_bounds = np.array([3.4478, 18.4570])\n",
    "\n",
    "for z1 in z1_bounds:\n",
    "    for z2 in z2_bounds:\n",
    "        for z3 in z3_bounds:\n",
    "            Ai = Ts * np.array([\n",
    "                [-z1*z3, z1*z3],\n",
    "                [z1/A2, -((z1+z2)/A2)]\n",
    "            ]) + np.eye(2)\n",
    "\n",
    "            Bi = Ts * np.array([\n",
    "                [Kb*z3],\n",
    "                [.0]\n",
    "            ])\n",
    "\n",
    "            print(\n",
    "                np.linalg.eigvals(Ai)\n",
    "            )\n",
    "\n",
    "            A_vertices.append(Ai)\n",
    "            B_vertices.append(Bi)"
   ]
  },
  {
   "cell_type": "code",
   "execution_count": 34,
   "metadata": {},
   "outputs": [],
   "source": [
    "Z1_, Z2_, Z3_ = sp.symbols('Z1 Z2 Z3')\n",
    "\n",
    "z1_min, z1_max = z1_bounds\n",
    "z2_min, z2_max = z2_bounds\n",
    "z3_min, z3_max = z3_bounds\n",
    "\n",
    "M1 = (Z1_ - z1_min) / (z1_max - z1_min)\n",
    "N1 = (Z2_ - z2_min) / (z2_max - z2_min)\n",
    "P1 = (Z3_ - z3_min) / (z3_max - z3_min)\n",
    "\n",
    "M2 = 1 - M1\n",
    "N2 = 1 - N1\n",
    "P2 = 1 - P1"
   ]
  },
  {
   "cell_type": "code",
   "execution_count": 35,
   "metadata": {},
   "outputs": [
    {
     "name": "stdout",
     "output_type": "stream",
     "text": [
      " \n",
      "0.354358610914245*Z1 + 0.182849043231751\n",
      "227.272727272727*Z2 - 0.75\n",
      "0.0666258028409242*Z3 - 0.229712443034939\n",
      " \n",
      "0.817150956768249 - 0.354358610914245*Z1\n",
      "1.75 - 227.272727272727*Z2\n",
      "1.22971244303494 - 0.0666258028409242*Z3\n"
     ]
    }
   ],
   "source": [
    "print(' ')\n",
    "print(M1)\n",
    "print(N1)\n",
    "print(P1)\n",
    "print(' ')\n",
    "print(M2)\n",
    "print(N2)\n",
    "print(P2)"
   ]
  },
  {
   "cell_type": "code",
   "execution_count": 36,
   "metadata": {},
   "outputs": [],
   "source": [
    "for i in range(len(A_vertices)):\n",
    "    A = A_vertices[i]\n",
    "    B = B_vertices[i]\n",
    "    \n",
    "    np.save(f'./vertices/A_{i}', A)\n",
    "    np.save(f'./vertices/B_{i}', B)"
   ]
  },
  {
   "cell_type": "code",
   "execution_count": 37,
   "metadata": {},
   "outputs": [
    {
     "data": {
      "text/plain": [
       "[array([[ 1.889532, -0.889532],\n",
       "        [-0.854588,  1.849122]]),\n",
       " array([[ 5.761906, -4.761906],\n",
       "        [-0.854588,  1.849122]]),\n",
       " array([[ 1.889532, -0.889532],\n",
       "        [-0.854588,  1.841835]]),\n",
       " array([[ 5.761906, -4.761906],\n",
       "        [-0.854588,  1.841835]]),\n",
       " array([[-2.975313,  3.975313],\n",
       "        [ 3.819145, -2.824611]]),\n",
       " array([[-20.280921,  21.280921],\n",
       "        [  3.819145,  -2.824611]]),\n",
       " array([[-2.975313,  3.975313],\n",
       "        [ 3.819145, -2.831898]]),\n",
       " array([[-20.280921,  21.280921],\n",
       "        [  3.819145,  -2.831898]])]"
      ]
     },
     "execution_count": 37,
     "metadata": {},
     "output_type": "execute_result"
    }
   ],
   "source": [
    "A_vertices"
   ]
  }
 ],
 "metadata": {
  "kernelspec": {
   "display_name": "Python 3.10.6 64-bit",
   "language": "python",
   "name": "python3"
  },
  "language_info": {
   "codemirror_mode": {
    "name": "ipython",
    "version": 3
   },
   "file_extension": ".py",
   "mimetype": "text/x-python",
   "name": "python",
   "nbconvert_exporter": "python",
   "pygments_lexer": "ipython3",
   "version": "3.10.6"
  },
  "orig_nbformat": 4,
  "vscode": {
   "interpreter": {
    "hash": "e7370f93d1d0cde622a1f8e1c04877d8463912d04d973331ad4851f04de6915a"
   }
  }
 },
 "nbformat": 4,
 "nbformat_minor": 2
}
