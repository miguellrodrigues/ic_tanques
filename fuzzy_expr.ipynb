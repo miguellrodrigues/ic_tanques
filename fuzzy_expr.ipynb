{
 "cells": [
  {
   "cell_type": "code",
   "execution_count": 1,
   "metadata": {},
   "outputs": [],
   "source": [
    "import numpy as np\n",
    "import sympy as sp\n",
    "import matplotlib.pyplot as plt\n",
    "\n",
    "np.set_printoptions(12, suppress=True)\n",
    "\n",
    "plt.style.use([\n",
    "    'grid',\n",
    "    'notebook'\n",
    "])"
   ]
  },
  {
   "cell_type": "code",
   "execution_count": 2,
   "metadata": {},
   "outputs": [],
   "source": [
    "A_vertices = []\n",
    "B_vertices = []\n",
    "\n",
    "Ts = 1\n",
    "\n",
    "r = .31\n",
    "mu = .4\n",
    "sigma = .55\n",
    "a4 = .3019\n",
    "\n",
    "kb = 15.89e-4"
   ]
  },
  {
   "cell_type": "code",
   "execution_count": 3,
   "metadata": {},
   "outputs": [
    {
     "name": "stdout",
     "output_type": "stream",
     "text": [
      "[[  -0.04986288        0.04986288    ]\n",
      " [ 412.908910235177 -805.28353759523 ]]\n",
      " \n",
      "[[  -0.59835456        0.59835456    ]\n",
      " [ 412.908910235177 -805.28353759523 ]]\n",
      " \n",
      "[[   -0.04986288         0.04986288    ]\n",
      " [  412.908910235177 -1534.213978138456]]\n",
      " \n",
      "[[   -0.59835456         0.59835456    ]\n",
      " [  412.908910235177 -1534.213978138456]]\n",
      " \n",
      "[[   -0.08652392         0.08652392    ]\n",
      " [  716.494865849619 -1108.869493209672]]\n",
      " \n",
      "[[   -1.03828704         1.03828704    ]\n",
      " [  716.494865849619 -1108.869493209672]]\n",
      " \n",
      "[[   -0.08652392         0.08652392    ]\n",
      " [  716.494865849619 -1837.799933752898]]\n",
      " \n",
      "[[   -1.03828704         1.03828704    ]\n",
      " [  716.494865849619 -1837.799933752898]]\n",
      " \n"
     ]
    }
   ],
   "source": [
    "z1_bounds = np.array([124.6572, 216.3098])\n",
    "z2_bounds = np.array([118.4579, 338.5220])\n",
    "z3_bounds = np.array([.0004, .0048])\n",
    "\n",
    "for z1 in z1_bounds:\n",
    "    for z2 in z2_bounds:\n",
    "        for z3 in z3_bounds:\n",
    "            A = np.array([\n",
    "                [-z1*z3, z1*z3],\n",
    "                [z1/a4, -((z1+z2))/a4]\n",
    "            ])\n",
    "\n",
    "            B = np.array([\n",
    "                [0],\n",
    "                [Ts*kb*z3]\n",
    "            ])\n",
    "\n",
    "            print(\n",
    "                A\n",
    "            )\n",
    "            print(' ')\n",
    "\n",
    "            A_vertices.append(A)\n",
    "            B_vertices.append(B)"
   ]
  },
  {
   "cell_type": "code",
   "execution_count": 4,
   "metadata": {},
   "outputs": [],
   "source": [
    "z1_min, z1_max = z1_bounds[0], z1_bounds[1]\n",
    "z2_min, z2_max = z2_bounds[0], z2_bounds[1]\n",
    "z3_min, z3_max = z3_bounds[0], z3_bounds[1]"
   ]
  },
  {
   "cell_type": "code",
   "execution_count": 5,
   "metadata": {},
   "outputs": [
    {
     "data": {
      "text/plain": [
       "array([124.6572, 216.3098])"
      ]
     },
     "execution_count": 5,
     "metadata": {},
     "output_type": "execute_result"
    }
   ],
   "source": [
    "z1_bounds"
   ]
  },
  {
   "cell_type": "code",
   "execution_count": 6,
   "metadata": {},
   "outputs": [
    {
     "data": {
      "text/plain": [
       "[<matplotlib.lines.Line2D at 0x7f78ace81a20>]"
      ]
     },
     "execution_count": 6,
     "metadata": {},
     "output_type": "execute_result"
    },
    {
     "data": {
      "image/png": "[encoded data removed]",
      "text/plain": [
       "<Figure size 576x432 with 1 Axes>"
      ]
     },
     "metadata": {
      "needs_background": "light"
     },
     "output_type": "display_data"
    }
   ],
   "source": [
    "Z1, Z2, Z3 = sp.symbols('Z1 Z2 Z3')\n",
    "\n",
    "M1 = (Z1 - z1_min) / (z1_max - z1_min)\n",
    "N1 = (Z2 - z2_min) / (z2_max - z2_min)\n",
    "P1 = (Z3 - z3_min) / (z3_max - z3_min)\n",
    "\n",
    "M2 = 1 - M1\n",
    "N2 = 1 - N1\n",
    "P2 = 1 - P1\n",
    "\n",
    "_Z1 = np.linspace(z1_min, z1_max, 100)\n",
    "_Z2 = np.linspace(z2_min, z2_max, 100)\n",
    "_Z3 = np.linspace(z3_min, z3_max, 100)\n",
    "\n",
    "M1_func = sp.lambdify([Z1], M1)\n",
    "N1_func = sp.lambdify([Z2], N1)\n",
    "P1_func = sp.lambdify([Z3], P1)\n",
    "\n",
    "M1_values = M1_func(_Z1)\n",
    "N1_values = N1_func(_Z2)\n",
    "P1_values = P1_func(_Z3)\n",
    "\n",
    "plt.plot(_Z3, P1_values)\n",
    "plt.plot(_Z3, 1-P1_values)"
   ]
  },
  {
   "cell_type": "code",
   "execution_count": 7,
   "metadata": {},
   "outputs": [],
   "source": [
    "for i in range(len(A_vertices)):\n",
    "    A = A_vertices[i]\n",
    "    B = B_vertices[i]\n",
    "    np.save(f'./vertices/A_{i}', A)\n",
    "    np.save(f'./vertices/B_{i}', B)"
   ]
  },
  {
   "cell_type": "code",
   "execution_count": 8,
   "metadata": {},
   "outputs": [
    {
     "name": "stdout",
     "output_type": "stream",
     "text": [
      " \n",
      "0.0109107652156076*Z1 - 1.36010544163504\n",
      "0.00454413055105308*Z2 - 0.538288162403591\n",
      "227.272727272727*Z3 - 0.0909090909090909\n",
      " \n",
      "2.36010544163504 - 0.0109107652156076*Z1\n",
      "1.53828816240359 - 0.00454413055105308*Z2\n",
      "1.09090909090909 - 227.272727272727*Z3\n"
     ]
    }
   ],
   "source": [
    "import sympy as sp\n",
    "\n",
    "Z1, Z2, Z3 = sp.symbols('Z1 Z2 Z3')\n",
    "\n",
    "M1 = (Z1 - z1_min) / (z1_max - z1_min)\n",
    "N1 = (Z2 - z2_min) / (z2_max - z2_min)\n",
    "Q1 = (Z3 - z3_min) / (z3_max - z3_min)\n",
    "\n",
    "M2 = 1 - M1\n",
    "N2 = 1 - N1\n",
    "Q2 = 1 - Q1\n",
    "\n",
    "print(' ')\n",
    "print(M1)\n",
    "print(N1)\n",
    "print(Q1)\n",
    "print(' ')\n",
    "print(M2)\n",
    "print(N2)\n",
    "print(Q2)"
   ]
  }
 ],
 "metadata": {
  "kernelspec": {
   "display_name": "Python 3.10.6 64-bit",
   "language": "python",
   "name": "python3"
  },
  "language_info": {
   "codemirror_mode": {
    "name": "ipython",
    "version": 3
   },
   "file_extension": ".py",
   "mimetype": "text/x-python",
   "name": "python",
   "nbconvert_exporter": "python",
   "pygments_lexer": "ipython3",
   "version": "3.10.6"
  },
  "orig_nbformat": 4,
  "vscode": {
   "interpreter": {
    "hash": "e7370f93d1d0cde622a1f8e1c04877d8463912d04d973331ad4851f04de6915a"
   }
  }
 },
 "nbformat": 4,
 "nbformat_minor": 2
}
