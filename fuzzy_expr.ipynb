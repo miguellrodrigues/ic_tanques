{
 "cells": [
  {
   "cell_type": "code",
   "execution_count": 41,
   "metadata": {},
   "outputs": [],
   "source": [
    "import numpy as np\n",
    "import matplotlib.pyplot as plt\n",
    "\n",
    "plt.style.use([\n",
    "    'grid',\n",
    "    'notebook'\n",
    "])"
   ]
  },
  {
   "cell_type": "code",
   "execution_count": 42,
   "metadata": {},
   "outputs": [],
   "source": [
    "h3_interval = [10, 50]\n",
    "h4_interval = [20, 70]\n",
    "\n",
    "u_interval = [0, 100]\n",
    "\n",
    "k1, k2, k3 = 165.48, 16.46, 29.4\n",
    "b2, b3 = -156.93, -83.93\n",
    "\n",
    "A_vertices = []\n",
    "\n",
    "Ts = 1\n",
    "\n",
    "r = .31\n",
    "mu = .4\n",
    "sigma = .55\n",
    "a4 = .3019\n",
    "\n",
    "B = np.array([\n",
    "    [0],\n",
    "    [k1/a4]\n",
    "])"
   ]
  },
  {
   "cell_type": "code",
   "execution_count": 43,
   "metadata": {},
   "outputs": [],
   "source": [
    "h3 = np.linspace(*h3_interval, 1000)\n",
    "h4 = np.linspace(*h4_interval, 1000)\n",
    "\n",
    "R43 = k2*(h4 - h3) + b2\n",
    "\n",
    "q_43 = (h4 - h3) / R43\n",
    "q_out = k3 * np.sqrt(h3) + b3\n",
    "\n",
    "a3_1 = np.cos(2.5*np.pi * (h4 - mu)) / (sigma * np.sqrt(2 * np.pi))\n",
    "a3_2 = np.exp(-((h4 - mu)**2) / (2 * sigma**2))\n",
    "\n",
    "a3 = ((3*r)/5) * (2.7*r - (a3_1 * a3_2))\n",
    "\n",
    "Z1 = Ts/R43\n",
    "Z2 = (Ts*q_out) / h3\n",
    "Z3 = 1/a3\n",
    "\n",
    "z1_min, z1_max = np.min(Z1), np.max(Z1)\n",
    "z2_min, z2_max = np.min(Z2), np.max(Z2)\n",
    "z3_min, z3_max = np.min(Z3), np.max(Z3)\n",
    "\n",
    "z1_interval = [z1_min, z1_max]\n",
    "z2_interval = [z2_min, z2_max]\n",
    "z3_interval = [z3_min, z3_max]\n",
    "\n",
    "for z1 in z1_interval:\n",
    "    for z2 in z2_interval:\n",
    "        for z3 in z3_interval:\n",
    "            A = np.array([\n",
    "                [-z1*z3 + 1, z3*(z1 - z2)],\n",
    "                [z1/a4, -(z1/a4) + 1]\n",
    "            ])\n",
    "\n",
    "            A_vertices.append(A)"
   ]
  },
  {
   "cell_type": "code",
   "execution_count": 44,
   "metadata": {},
   "outputs": [],
   "source": [
    "from scipy.io import savemat\n",
    "\n",
    "for i in range(len(A_vertices)):\n",
    "    A = A_vertices[i]\n",
    "    savemat(f'./vertices/A{i + 1}.mat', {'A': A})\n",
    "\n",
    "savemat(f'./vertices/B.mat', {'B': B})"
   ]
  }
 ],
 "metadata": {
  "kernelspec": {
   "display_name": "Python 3.8.10 64-bit",
   "language": "python",
   "name": "python3"
  },
  "language_info": {
   "codemirror_mode": {
    "name": "ipython",
    "version": 3
   },
   "file_extension": ".py",
   "mimetype": "text/x-python",
   "name": "python",
   "nbconvert_exporter": "python",
   "pygments_lexer": "ipython3",
   "version": "3.10.4"
  },
  "orig_nbformat": 4,
  "vscode": {
   "interpreter": {
    "hash": "31f2aee4e71d21fbe5cf8b01ff0e069b9275f58929596ceb00d14d90e3e16cd6"
   }
  }
 },
 "nbformat": 4,
 "nbformat_minor": 2
}
