{
 "cells": [
  {
   "cell_type": "code",
   "execution_count": 338,
   "metadata": {},
   "outputs": [],
   "source": [
    "import sympy as sp\n",
    "import matplotlib.pyplot as plt\n",
    "import numpy as np\n",
    "from scipy.integrate import solve_ivp"
   ]
  },
  {
   "cell_type": "code",
   "execution_count": 339,
   "metadata": {},
   "outputs": [],
   "source": [
    "t = sp.Symbol('t')\n",
    "\n",
    "theta = sp.Function('theta')(t)\n",
    "d_theta = sp.diff(theta, t)\n",
    "\n",
    "L = sp.Symbol('L')\n",
    "J = sp.Symbol('J')\n",
    "\n",
    "m, g = sp.symbols('m g')\n",
    "\n",
    "tau_theta = sp.Symbol('tau_theta')\n",
    "B = sp.Symbol('B')\n",
    "\n",
    "k = .5 * L\n",
    "\n",
    "x_cg = k * sp.sin(theta)\n",
    "y_cg = -k * sp.cos(theta)\n",
    "\n",
    "dx_cg = sp.diff(x_cg, t)\n",
    "dy_cg = sp.diff(y_cg, t)"
   ]
  },
  {
   "cell_type": "code",
   "execution_count": 340,
   "metadata": {},
   "outputs": [],
   "source": [
    "V = m*g*y_cg\n",
    "T = sp.Rational(1, 2) * (J*d_theta**2 + m * (dx_cg**2 + dy_cg**2))\n",
    "\n",
    "LAGRANGIAN = T - V"
   ]
  },
  {
   "cell_type": "code",
   "execution_count": 341,
   "metadata": {},
   "outputs": [],
   "source": [
    "EQ = sp.Eq(\n",
    "    sp.diff(LAGRANGIAN, theta) - sp.diff(sp.diff(LAGRANGIAN, d_theta), t),\n",
    "    tau_theta - B*d_theta\n",
    ")\n",
    "\n",
    "res = (sp.solve(EQ, sp.diff(d_theta, t))[-1])"
   ]
  },
  {
   "cell_type": "code",
   "execution_count": 342,
   "metadata": {},
   "outputs": [
    {
     "data": {
      "text/latex": [
       "$\\displaystyle \\frac{2.0 \\cdot \\left(2.0 B \\frac{d}{d t} \\theta{\\left(t \\right)} - L g m \\sin{\\left(\\theta{\\left(t \\right)} \\right)} - 2.0 \\tau_{\\theta}\\right)}{4.0 J + L^{2} m}$"
      ],
      "text/plain": [
       "2.0*(2.0*B*Derivative(theta(t), t) - L*g*m*sin(theta(t)) - 2.0*tau_theta)/(4.0*J + L**2*m)"
      ]
     },
     "execution_count": 342,
     "metadata": {},
     "output_type": "execute_result"
    }
   ],
   "source": [
    "res"
   ]
  },
  {
   "cell_type": "code",
   "execution_count": 343,
   "metadata": {},
   "outputs": [
    {
     "data": {
      "text/latex": [
       "$\\displaystyle \\frac{2.0 \\cdot \\left(2.0 B \\omega - L g m \\sin{\\left(\\theta{\\left(t \\right)} \\right)} - 2.0 \\tau_{\\theta}\\right)}{4.0 J + L^{2} m}$"
      ],
      "text/plain": [
       "2.0*(2.0*B*omega - L*g*m*sin(theta(t)) - 2.0*tau_theta)/(4.0*J + L**2*m)"
      ]
     },
     "execution_count": 343,
     "metadata": {},
     "output_type": "execute_result"
    }
   ],
   "source": [
    "omega = sp.Symbol('omega')\n",
    "_theta = sp.Symbol('theta')\n",
    "\n",
    "lres = res.subs({\n",
    "    d_theta: omega\n",
    "})\n",
    "\n",
    "lres"
   ]
  },
  {
   "cell_type": "code",
   "execution_count": 344,
   "metadata": {},
   "outputs": [],
   "source": [
    "d_omega = sp.lambdify([B, omega, L, g, m, theta, tau_theta, J], lres, modules='numpy')"
   ]
  },
  {
   "cell_type": "code",
   "execution_count": 346,
   "metadata": {},
   "outputs": [
    {
     "data": {
      "text/plain": [
       "[<matplotlib.lines.Line2D at 0x7f9d11c13dc0>]"
      ]
     },
     "execution_count": 346,
     "metadata": {},
     "output_type": "execute_result"
    },
    {
     "data": {
      "image/png": "[encoded data removed]",
      "text/plain": [
       "<Figure size 640x480 with 1 Axes>"
      ]
     },
     "metadata": {},
     "output_type": "display_data"
    }
   ],
   "source": [
    "_B = .00001\n",
    "_L = 1\n",
    "_g = 9.81\n",
    "_m = 875\n",
    "\n",
    "u = 0\n",
    "c = .45\n",
    "_J = 1.84e-4\n",
    "\n",
    "def dsdt(_, s):\n",
    "    _omega, _theta = s\n",
    "\n",
    "    tau_theta = c * u * _omega\n",
    "\n",
    "    return [\n",
    "        _omega,\n",
    "        d_omega(_B, _omega, _L, _g, _m, _theta, 0, _J)\n",
    "    ]\n",
    "\n",
    "\n",
    "t_eval = np.linspace(1e-4, 60, 1000)\n",
    "t_span = [t_eval[0], t_eval[-1]]\n",
    "\n",
    "S_0 = (0, np.pi/4)\n",
    "\n",
    "sol = solve_ivp(\n",
    "    dsdt,\n",
    "    t_span=t_span,\n",
    "    y0=S_0,\n",
    "    t_eval=t_eval\n",
    ")\n",
    "\n",
    "plt.plot(sol.t, sol.y[1])"
   ]
  }
 ],
 "metadata": {
  "kernelspec": {
   "display_name": "Python 3.10.4 64-bit",
   "language": "python",
   "name": "python3"
  },
  "language_info": {
   "codemirror_mode": {
    "name": "ipython",
    "version": 3
   },
   "file_extension": ".py",
   "mimetype": "text/x-python",
   "name": "python",
   "nbconvert_exporter": "python",
   "pygments_lexer": "ipython3",
   "version": "3.10.4"
  },
  "orig_nbformat": 4,
  "vscode": {
   "interpreter": {
    "hash": "e7370f93d1d0cde622a1f8e1c04877d8463912d04d973331ad4851f04de6915a"
   }
  }
 },
 "nbformat": 4,
 "nbformat_minor": 2
}
