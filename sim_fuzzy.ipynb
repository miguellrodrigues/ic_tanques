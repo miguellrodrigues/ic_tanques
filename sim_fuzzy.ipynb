{
 "cells": [
  {
   "cell_type": "code",
   "execution_count": 10,
   "metadata": {},
   "outputs": [],
   "source": [
    "import sympy as sp\n",
    "import numpy as np\n",
    "import matplotlib.pyplot as plt\n",
    "\n",
    "plt.style.use([\n",
    "    'grid',\n",
    "    'notebook'\n",
    "])"
   ]
  },
  {
   "cell_type": "code",
   "execution_count": 11,
   "metadata": {},
   "outputs": [],
   "source": [
    "Ts = 1\n",
    "\n",
    "sim_time = 1000\n",
    "iterations = int(sim_time / Ts)\n",
    "\n",
    "time = np.arange(0, sim_time, Ts)\n",
    "\n",
    "r = .31\n",
    "mu = .4\n",
    "sigma = .55\n",
    "a4 = .3019"
   ]
  },
  {
   "cell_type": "code",
   "execution_count": 12,
   "metadata": {},
   "outputs": [],
   "source": [
    "def M1(Z1):\n",
    "    return 0.0109107652156076*Z1 - 1.36010544163504\n",
    "\n",
    "\n",
    "def N1(Z2):\n",
    "    return 0.00454413055105308*Z2 - 0.538288162403591\n",
    "\n",
    "\n",
    "def P1(Z3):\n",
    "    return 227.272727272727*Z3 - 0.0909090909090909\n",
    "\n",
    "\n",
    "def M2(Z1):\n",
    "    return 1 - M1(Z1)\n",
    "\n",
    "\n",
    "def N2(Z2):\n",
    "    return 1 - N1(Z2)\n",
    "\n",
    "\n",
    "def P2(Z3):\n",
    "    return 1 - P1(Z3)\n",
    "\n",
    "\n",
    "pertinence_functions = np.array([\n",
    "    [M1, M2],\n",
    "    [N1, N2],\n",
    "    [P1, P2]\n",
    "])"
   ]
  },
  {
   "cell_type": "code",
   "execution_count": 13,
   "metadata": {},
   "outputs": [
    {
     "data": {
      "text/plain": [
       "(81.047, 0.08870501, 0.04425316701733997)"
      ]
     },
     "execution_count": 13,
     "metadata": {},
     "output_type": "execute_result"
    }
   ],
   "source": [
    "diff = 5\n",
    "h3 = 15\n",
    "h4 = 10\n",
    "\n",
    "R34 = (0.2371*diff+6.9192)*10\n",
    "q0 = (18.6367*h4+700.6831)*1e-4\n",
    "a3 = (3*r/5)*(2.7*r-((np.cos(2.5*np.pi*(h3-8)*1e-2-mu))/(sigma*np.sqrt(2*np.pi)))*np.exp(-(((h3-8)*1e-2-mu)**2)/(2*sigma**2)))\n",
    "\n",
    "R34, q0, a3"
   ]
  },
  {
   "cell_type": "code",
   "execution_count": 14,
   "metadata": {},
   "outputs": [
    {
     "data": {
      "text/plain": [
       "(0.012338519624415463, 0.008870501, 22.59725274821945)"
      ]
     },
     "execution_count": 14,
     "metadata": {},
     "output_type": "execute_result"
    }
   ],
   "source": [
    "Z1 = 1/R34\n",
    "Z2 = q0/h4\n",
    "Z3 = 1/a3\n",
    "\n",
    "Z1, Z2, Z3"
   ]
  },
  {
   "cell_type": "code",
   "execution_count": 18,
   "metadata": {},
   "outputs": [
    {
     "data": {
      "text/plain": [
       "<matplotlib.legend.Legend at 0x7f3999425540>"
      ]
     },
     "execution_count": 18,
     "metadata": {},
     "output_type": "execute_result"
    },
    {
     "data": {
      "image/png": "[encoded data removed]",
      "text/plain": [
       "<Figure size 576x432 with 1 Axes>"
      ]
     },
     "metadata": {
      "needs_background": "light"
     },
     "output_type": "display_data"
    }
   ],
   "source": [
    "h3_t = np.zeros(iterations)\n",
    "h4_t = np.zeros(iterations)\n",
    "\n",
    "h3_0 = 15.\n",
    "h4_0 = 12.\n",
    "\n",
    "h3_t[0] = h3_0\n",
    "h4_t[0] = h4_0\n",
    "\n",
    "h3 = h3_0\n",
    "h4 = h4_0\n",
    "\n",
    "n = 8\n",
    "\n",
    "A_matrices = [np.load(f'./vertices/A_{i}.npy') for i in range(n)]\n",
    "B_matrices = [np.load(f'./vertices/B_{i}.npy') for i in range(n)]\n",
    "\n",
    "u = 47\n",
    "\n",
    "for i in range(1, iterations):\n",
    "    diff = h3 - h4\n",
    "\n",
    "    R34 = (0.2371*diff+6.9192)*10\n",
    "    q0 = (18.6367*h4+700.6831)*1e-4\n",
    "    a3 = (3*r/5)*(2.7*r-((np.cos(2.5*np.pi*(h3-8)*1e-2-mu))/(sigma*np.sqrt(2*np.pi)))*np.exp(-(((h3-8)*1e-2-mu)**2)/(2*sigma**2)))\n",
    "\n",
    "    if h3 < 0:\n",
    "        h3 = 0\n",
    "    \n",
    "    if h4 < 0:\n",
    "        h4 = 0\n",
    "    \n",
    "    h3_t[i] = h3\n",
    "    h4_t[i] = h4\n",
    "\n",
    "    h = np.array([\n",
    "        [h3],\n",
    "        [h4]\n",
    "    ])\n",
    "\n",
    "    Z1 = 1/R34\n",
    "    Z2 = q0/h4\n",
    "    Z3 = 1/a3\n",
    "\n",
    "    v = np.array([\n",
    "        [pertinence_functions[0, 1](Z1), pertinence_functions[0, 0](Z1)],\n",
    "        [pertinence_functions[1, 1](Z2), pertinence_functions[1, 0](Z2)],\n",
    "        [pertinence_functions[2, 1](Z3), pertinence_functions[2, 0](Z3)],\n",
    "    ])\n",
    "\n",
    "    weights = np.array([\n",
    "        v[0, 0] * v[1, 0] * v[2, 0],\n",
    "        v[0, 0] * v[1, 0] * v[2, 1],\n",
    "        v[0, 0] * v[1, 1] * v[2, 0],\n",
    "        v[0, 0] * v[1, 1] * v[2, 1],\n",
    "        v[0, 1] * v[1, 0] * v[2, 0],\n",
    "        v[0, 1] * v[1, 0] * v[2, 1],\n",
    "        v[0, 1] * v[1, 1] * v[2, 0],\n",
    "        v[0, 1] * v[1, 1] * v[2, 1],\n",
    "    ])\n",
    "\n",
    "    Ai = sum([A_matrices[j] * weights[j] for j in range(n)])\n",
    "    Bi = sum([B_matrices[j] * weights[j] for j in range(n)])\n",
    "\n",
    "    sys = (Ai@h + Bi*u) * Ts\n",
    "\n",
    "    h3 += sys[0, 0]\n",
    "    h4 += sys[1, 0]\n",
    "\n",
    "plt.plot(time, h3_t, label='h3')\n",
    "plt.legend()"
   ]
  },
  {
   "cell_type": "code",
   "execution_count": null,
   "metadata": {},
   "outputs": [
    {
     "data": {
      "text/plain": [
       "<matplotlib.legend.Legend at 0x7f399b9bf5e0>"
      ]
     },
     "execution_count": 5,
     "metadata": {},
     "output_type": "execute_result"
    },
    {
     "data": {
      "image/png": "[encoded data removed]",
      "text/plain": [
       "<Figure size 576x432 with 1 Axes>"
      ]
     },
     "metadata": {
      "needs_background": "light"
     },
     "output_type": "display_data"
    }
   ],
   "source": [
    "plt.plot(time, h4_t, label='h4')\n",
    "plt.legend()"
   ]
  }
 ],
 "metadata": {
  "kernelspec": {
   "display_name": "Python 3.10.6 64-bit",
   "language": "python",
   "name": "python3"
  },
  "language_info": {
   "codemirror_mode": {
    "name": "ipython",
    "version": 3
   },
   "file_extension": ".py",
   "mimetype": "text/x-python",
   "name": "python",
   "nbconvert_exporter": "python",
   "pygments_lexer": "ipython3",
   "version": "3.10.6"
  },
  "orig_nbformat": 4,
  "vscode": {
   "interpreter": {
    "hash": "e7370f93d1d0cde622a1f8e1c04877d8463912d04d973331ad4851f04de6915a"
   }
  }
 },
 "nbformat": 4,
 "nbformat_minor": 2
}
