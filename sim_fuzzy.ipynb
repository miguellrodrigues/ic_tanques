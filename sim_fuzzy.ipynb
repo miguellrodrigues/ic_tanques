{
 "cells": [
  {
   "cell_type": "code",
   "execution_count": 242,
   "metadata": {},
   "outputs": [],
   "source": [
    "import sympy as sp\n",
    "import numpy as np\n",
    "import matplotlib.pyplot as plt\n",
    "\n",
    "plt.style.use([\n",
    "    'grid',\n",
    "    'notebook'\n",
    "])"
   ]
  },
  {
   "cell_type": "code",
   "execution_count": 243,
   "metadata": {},
   "outputs": [],
   "source": [
    "Ts = 1\n",
    "\n",
    "sim_time = 2500\n",
    "iterations = int(sim_time / Ts)\n",
    "\n",
    "time = np.arange(0, sim_time, Ts)\n",
    "\n",
    "r = 31\n",
    "mu = 40\n",
    "sigma = 55\n",
    "A2 = np.pi * r**2"
   ]
  },
  {
   "cell_type": "code",
   "execution_count": 244,
   "metadata": {},
   "outputs": [],
   "source": [
    "def M1(Z1):\n",
    "    return 9150719.71133393*Z1 - 5877.32808711319\n",
    "\n",
    "\n",
    "def N1(Z2):\n",
    "    return 82.0022562085844*Z2 - 0.102477227864807\n",
    "\n",
    "\n",
    "def P1(Z3):\n",
    "    return 0.000587307446605506*Z3 + 0.985156412531603\n",
    "\n",
    "\n",
    "def M2(Z1):\n",
    "    return 1 - M1(Z1)\n",
    "\n",
    "\n",
    "def N2(Z2):\n",
    "    return 1 - N1(Z2)\n",
    "\n",
    "\n",
    "def P2(Z3):\n",
    "    return 1 - P1(Z3)\n",
    "\n",
    "\n",
    "pertinence_functions = np.array([\n",
    "    [M1, M2],\n",
    "    [N1, N2],\n",
    "    [P1, P2]\n",
    "])"
   ]
  },
  {
   "cell_type": "code",
   "execution_count": 245,
   "metadata": {},
   "outputs": [],
   "source": [
    "k1, k2, k3 = 1.04*(16.46), 0.95*(32.4), 0.93*(185.48)\n",
    "b2, b3 = 0.95*(-83.93), 0.93*(-167.01)"
   ]
  },
  {
   "cell_type": "code",
   "execution_count": 247,
   "metadata": {},
   "outputs": [
    {
     "name": "stderr",
     "output_type": "stream",
     "text": [
      "/tmp/ipykernel_4265/2469162491.py:27: RuntimeWarning: invalid value encountered in sqrt\n",
      "  q0 = .965*(k3 * np.sqrt(h1) + b3)\n"
     ]
    },
    {
     "data": {
      "text/plain": [
       "<matplotlib.legend.Legend at 0x7f46770553c0>"
      ]
     },
     "execution_count": 247,
     "metadata": {},
     "output_type": "execute_result"
    },
    {
     "data": {
      "image/png": "[encoded data removed]",
      "text/plain": [
       "<Figure size 576x432 with 1 Axes>"
      ]
     },
     "metadata": {
      "needs_background": "light"
     },
     "output_type": "display_data"
    }
   ],
   "source": [
    "h1_t = np.zeros(iterations)\n",
    "h2_t = np.zeros(iterations)\n",
    "\n",
    "h1_0 = 18.\n",
    "h2_0 = 20.\n",
    "\n",
    "h1_t[0] = h1_0\n",
    "h2_t[0] = h2_0\n",
    "\n",
    "h1 = h1_0\n",
    "h2 = h2_0\n",
    "\n",
    "n = 8\n",
    "\n",
    "A_matrices = [np.load(f'./vertices/A_{i}.npy') for i in range(n)]\n",
    "B_matrices = [np.load(f'./vertices/B_{i}.npy') for i in range(n)]\n",
    "\n",
    "u = 0\n",
    "\n",
    "for i in range(1, iterations):\n",
    "    diff = h2 - h1\n",
    "\n",
    "    R12 = (k2*diff + b2)\n",
    "    if diff < 5:\n",
    "        R12 = 74.38\n",
    "\n",
    "    q0 = .965*(k3 * np.sqrt(h1) + b3)\n",
    "\n",
    "    l2 = np.cos(2.5*np.pi * (h1 - mu)) / (sigma * np.sqrt(2 * np.pi))\n",
    "    l3 = np.exp(-((h1 - mu)**2) / (2 * sigma**2))\n",
    "\n",
    "    A1 = ((3*r)/5) * (2.7*r - (l2 * l3))\n",
    "\n",
    "    Z1 = 1/A1\n",
    "    Z2 = 1/R12\n",
    "    Z3 = q0/h2\n",
    "    \n",
    "    h1_t[i] = h1\n",
    "    h2_t[i] = h2\n",
    "\n",
    "    h = np.array([\n",
    "        [h1],\n",
    "        [h2]\n",
    "    ])\n",
    "\n",
    "    v = np.array([\n",
    "        [pertinence_functions[0, 0](Z1), pertinence_functions[0, 1](Z1)],\n",
    "        [pertinence_functions[1, 0](Z2), pertinence_functions[1, 1](Z2)],\n",
    "        [pertinence_functions[2, 0](Z3), pertinence_functions[2, 1](Z3)],\n",
    "    ])\n",
    "\n",
    "    weights = np.array([\n",
    "        v[0, 0] * v[1, 0] * v[2, 0],\n",
    "        v[0, 0] * v[1, 0] * v[2, 1],\n",
    "        v[0, 0] * v[1, 1] * v[2, 0],\n",
    "        v[0, 0] * v[1, 1] * v[2, 1],\n",
    "        v[0, 1] * v[1, 0] * v[2, 0],\n",
    "        v[0, 1] * v[1, 0] * v[2, 1],\n",
    "        v[0, 1] * v[1, 1] * v[2, 0],\n",
    "        v[0, 1] * v[1, 1] * v[2, 1],\n",
    "    ])\n",
    "\n",
    "    Ai = sum([A_matrices[j] * weights[j] for j in range(n)])\n",
    "    Bi = sum([B_matrices[j] * weights[j] for j in range(n)])\n",
    "\n",
    "    sys = (Ai@h + Bi*u) * Ts\n",
    "\n",
    "    h1 += sys[0, 0]\n",
    "    h2 += sys[1, 0]\n",
    "\n",
    "plt.plot(time, h1_t, label='h1')\n",
    "plt.legend()"
   ]
  }
 ],
 "metadata": {
  "kernelspec": {
   "display_name": "Python 3.10.6 64-bit",
   "language": "python",
   "name": "python3"
  },
  "language_info": {
   "codemirror_mode": {
    "name": "ipython",
    "version": 3
   },
   "file_extension": ".py",
   "mimetype": "text/x-python",
   "name": "python",
   "nbconvert_exporter": "python",
   "pygments_lexer": "ipython3",
   "version": "3.10.6"
  },
  "orig_nbformat": 4,
  "vscode": {
   "interpreter": {
    "hash": "e7370f93d1d0cde622a1f8e1c04877d8463912d04d973331ad4851f04de6915a"
   }
  }
 },
 "nbformat": 4,
 "nbformat_minor": 2
}
