{
 "cells": [
  {
   "cell_type": "code",
   "execution_count": 36,
   "metadata": {},
   "outputs": [],
   "source": [
    "import sympy as sp\n",
    "import numpy as np\n",
    "import matplotlib.pyplot as plt\n",
    "from scipy.integrate import solve_ivp\n",
    "\n",
    "plt.style.use([\n",
    "    'grid',\n",
    "    'notebook'\n",
    "])"
   ]
  },
  {
   "cell_type": "code",
   "execution_count": 37,
   "metadata": {},
   "outputs": [],
   "source": [
    "k1, k2, k3 = 1.04*(16.46), 0.95*(32.4), 0.93*(185.48)\n",
    "b2, b3 = 0.95*(-83.93), 0.93*(-167.01)\n",
    "\n",
    "Ts = 4\n",
    "\n",
    "sim_time = 20000\n",
    "iterations = int(sim_time / Ts)\n",
    "\n",
    "time = np.arange(0, sim_time, Ts)\n",
    "\n",
    "r = 31\n",
    "mu = 40\n",
    "sigma = 55\n",
    "a4 = 3019"
   ]
  },
  {
   "cell_type": "code",
   "execution_count": 38,
   "metadata": {},
   "outputs": [],
   "source": [
    "def M1(Z1):\n",
    "    return 20.3960862846214*Z1 - 0.096858633214382\n",
    "\n",
    "\n",
    "def N1(Z2):\n",
    "    return 1.21153800621479*Z2 - 0.2389443466253\n",
    "\n",
    "\n",
    "def P1(Z3):\n",
    "    return 9295044.23012624*Z3 - 5970.02819190981\n",
    "\n",
    "\n",
    "def M2(Z1):\n",
    "    return 1 - M1(Z1)\n",
    "\n",
    "\n",
    "def N2(Z2):\n",
    "    return 1 - N1(Z2)\n",
    "\n",
    "\n",
    "def P2(Z3):\n",
    "    return 1 - P1(Z3)\n",
    "\n",
    "\n",
    "pertinence_functions = np.array([\n",
    "    [M1, M2],\n",
    "    [N1, N2],\n",
    "    [P1, P2]\n",
    "])"
   ]
  },
  {
   "cell_type": "code",
   "execution_count": 39,
   "metadata": {},
   "outputs": [
    {
     "data": {
      "text/plain": [
       "<matplotlib.legend.Legend at 0x7fbaed79cca0>"
      ]
     },
     "execution_count": 39,
     "metadata": {},
     "output_type": "execute_result"
    },
    {
     "data": {
      "image/png": "[encoded data removed]",
      "text/plain": [
       "<Figure size 576x432 with 1 Axes>"
      ]
     },
     "metadata": {
      "needs_background": "light"
     },
     "output_type": "display_data"
    }
   ],
   "source": [
    "h3_t = np.zeros(iterations)\n",
    "h4_t = np.zeros(iterations)\n",
    "\n",
    "h3_0 = 30.\n",
    "h4_0 = 28.\n",
    "\n",
    "h3_t[0] = h3_0\n",
    "h4_t[0] = h4_0\n",
    "\n",
    "h3 = h3_0\n",
    "h4 = h4_0\n",
    "\n",
    "n = 8\n",
    "\n",
    "A_matrices = [np.load(f'./vertices/A_{i}.npy') for i in range(n)]\n",
    "B = np.load('./vertices/B.npy')\n",
    "\n",
    "sys = np.array([\n",
    "    [h3],\n",
    "    [h4]]\n",
    ")\n",
    "\n",
    "u = .1\n",
    "\n",
    "for i in range(iterations):\n",
    "    diff = h4 - h3\n",
    "\n",
    "    R43 = (k2*diff + b2)\n",
    "\n",
    "    if h3 < 0:\n",
    "        h3 = 0\n",
    "    \n",
    "    if h4 < 0:\n",
    "        h4 = 0\n",
    "\n",
    "    if diff < 5:\n",
    "        R43 = 74.38\n",
    "\n",
    "    q_43 = (diff / R43)\n",
    "    q_out = .965*(k3 * np.sqrt(h3) + b3)\n",
    "\n",
    "    a3_1 = np.cos(2.5*np.pi * (h3 - mu)) / (sigma * np.sqrt(2 * np.pi))\n",
    "    a3_2 = np.exp(-(((h3 - mu)**2)) / (2 * sigma**2))\n",
    "\n",
    "    a3 = ((3*r)/5) * (2.7*r - a3_1 * a3_2)\n",
    "\n",
    "    Z1 = Ts/R43\n",
    "    Z2 = (Ts*q_out)/a4\n",
    "    Z3 = 1/a3\n",
    "\n",
    "    v = np.array([\n",
    "        [pertinence_functions[0, 0](Z1), pertinence_functions[0, 1](Z1)],\n",
    "        [pertinence_functions[1, 0](Z2), pertinence_functions[1, 1](Z2)],\n",
    "        [pertinence_functions[2, 0](Z3), pertinence_functions[2, 1](Z3)],\n",
    "    ])\n",
    "\n",
    "    weights = np.array([\n",
    "        v[0, 1] * v[1, 1] * v[2, 1],\n",
    "        v[0, 1] * v[1, 1] * v[2, 0],\n",
    "        v[0, 1] * v[1, 0] * v[2, 1],\n",
    "        v[0, 1] * v[1, 0] * v[2, 0],\n",
    "        v[0, 0] * v[1, 1] * v[2, 1],\n",
    "        v[0, 0] * v[1, 1] * v[2, 0],\n",
    "        v[0, 0] * v[1, 0] * v[2, 1],\n",
    "        v[0, 0] * v[1, 0] * v[2, 0],\n",
    "    ])\n",
    "\n",
    "    Ai = sum([A_matrices[j] * weights[j] for j in range(n)])\n",
    "    delta_sys = (Ai @ sys) + B*u\n",
    "\n",
    "    sys = delta_sys\n",
    "\n",
    "    h3 = sys[0, 0]\n",
    "    h4 = sys[1, 0]\n",
    "\n",
    "    h3_t[i] = h3\n",
    "    h4_t[i] = h4\n",
    "\n",
    "plt.plot(time, h3_t, label='h3')\n",
    "plt.plot(time, h4_t, label='h4')\n",
    "plt.legend()"
   ]
  }
 ],
 "metadata": {
  "kernelspec": {
   "display_name": "Python 3.8.10 64-bit",
   "language": "python",
   "name": "python3"
  },
  "language_info": {
   "codemirror_mode": {
    "name": "ipython",
    "version": 3
   },
   "file_extension": ".py",
   "mimetype": "text/x-python",
   "name": "python",
   "nbconvert_exporter": "python",
   "pygments_lexer": "ipython3",
   "version": "3.10.6"
  },
  "orig_nbformat": 4,
  "vscode": {
   "interpreter": {
    "hash": "31f2aee4e71d21fbe5cf8b01ff0e069b9275f58929596ceb00d14d90e3e16cd6"
   }
  }
 },
 "nbformat": 4,
 "nbformat_minor": 2
}
