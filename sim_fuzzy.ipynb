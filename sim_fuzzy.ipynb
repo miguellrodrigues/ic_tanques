{
 "cells": [
  {
   "cell_type": "code",
   "execution_count": 25,
   "metadata": {},
   "outputs": [],
   "source": [
    "import sympy as sp\n",
    "import numpy as np\n",
    "import matplotlib.pyplot as plt\n",
    "\n",
    "plt.style.use([\n",
    "    'grid',\n",
    "    'notebook'\n",
    "])"
   ]
  },
  {
   "cell_type": "code",
   "execution_count": 26,
   "metadata": {},
   "outputs": [],
   "source": [
    "Ts = .5\n",
    "\n",
    "sim_time = 2500\n",
    "iterations = int(sim_time / Ts)\n",
    "\n",
    "time = np.arange(0, sim_time, Ts)\n",
    "\n",
    "r = .31\n",
    "mu = .40\n",
    "sigma = .55\n",
    "A2 = np.pi * r**2"
   ]
  },
  {
   "cell_type": "code",
   "execution_count": 27,
   "metadata": {},
   "outputs": [],
   "source": [
    "def M1(Z1):\n",
    "    return 0.354358610914245*Z1 + 0.182849043231751\n",
    "\n",
    "def N1(Z2):\n",
    "    return 227.272727272727*Z2 - 0.75\n",
    "\n",
    "def O1(Z3):\n",
    "    return 0.0666258028409242*Z3 - 0.22971244303493\n",
    "\n",
    "def M2(Z1):\n",
    "    return 1-M1(Z1)\n",
    "\n",
    "def N2(Z2):\n",
    "    return 1-N1(Z2)\n",
    "\n",
    "def O2(Z3):\n",
    "    return 1-O1(Z3)\n",
    "\n",
    "pertinence_functions = np.array([\n",
    "    [M1, M2],\n",
    "    [N1, N2],\n",
    "    [O1, O2]\n",
    "])"
   ]
  },
  {
   "cell_type": "code",
   "execution_count": 28,
   "metadata": {},
   "outputs": [
    {
     "data": {
      "text/plain": [
       "<matplotlib.legend.Legend at 0x7fee55469420>"
      ]
     },
     "execution_count": 28,
     "metadata": {},
     "output_type": "execute_result"
    },
    {
     "data": {
      "image/png": "[encoded data removed]",
      "text/plain": [
       "<Figure size 576x432 with 1 Axes>"
      ]
     },
     "metadata": {
      "needs_background": "light"
     },
     "output_type": "display_data"
    }
   ],
   "source": [
    "h1_t = np.zeros(iterations)\n",
    "h2_t = np.zeros(iterations)\n",
    "\n",
    "h1_0 = 40\n",
    "h2_0 = 38\n",
    "\n",
    "h1_t[0] = h1_0\n",
    "h2_t[0] = h2_0\n",
    "\n",
    "h1 = h1_0\n",
    "h2 = h2_0\n",
    "\n",
    "n = 8\n",
    "\n",
    "A_matrices = [np.load(f'./vertices/A_{i}.npy') for i in range(n)]\n",
    "B_matrices = [np.load(f'./vertices/B_{i}.npy') for i in range(n)]\n",
    "\n",
    "u = 9\n",
    "\n",
    "for i in range(1, iterations):\n",
    "    diff = h1 - h2\n",
    "\n",
    "    R12 = (0.2371*diff+6.9192)*10\n",
    "    q0  = (18.6367*h2+700.6831)*1e-4\n",
    "    a1 = (3*r/5)*(2.7*r-((np.cos(2.5*np.pi*(h1-8)*1e-2-mu))/(sigma*np.sqrt(2*np.pi)))*np.exp(-(((h1-8)*1e-2-mu)**2)/(2*sigma**2)))\n",
    "\n",
    "    Z1 = 1/R12\n",
    "    Z2 = q0/h2\n",
    "    Z3 = 1/a1\n",
    "\n",
    "    h1_t[i] = h1\n",
    "    h2_t[i] = h2\n",
    "\n",
    "    h = np.array([\n",
    "        [h1],\n",
    "        [h2]\n",
    "    ])\n",
    "\n",
    "    v = np.array([\n",
    "        [pertinence_functions[0, 0](Z1), pertinence_functions[0, 1](Z1)],\n",
    "        [pertinence_functions[1, 0](Z2), pertinence_functions[1, 1](Z2)],\n",
    "        [pertinence_functions[2, 0](Z3), pertinence_functions[2, 1](Z3)],\n",
    "    ])\n",
    "\n",
    "    weights = np.array([\n",
    "        v[0, 1] * v[1, 1] * v[2, 1],\n",
    "        v[0, 1] * v[1, 1] * v[2, 0],\n",
    "        v[0, 1] * v[1, 0] * v[2, 1],\n",
    "        v[0, 1] * v[1, 0] * v[2, 0],\n",
    "        v[0, 0] * v[1, 1] * v[2, 1],\n",
    "        v[0, 0] * v[1, 1] * v[2, 0],\n",
    "        v[0, 0] * v[1, 0] * v[2, 1],\n",
    "        v[0, 0] * v[1, 0] * v[2, 0],\n",
    "    ])\n",
    "\n",
    "    Ai = sum([A_matrices[j] * weights[j] for j in range(n)])\n",
    "    Bi = sum([B_matrices[j] * weights[j] for j in range(n)])\n",
    "\n",
    "    delta_sys = (Ai @ h) + Bi * u\n",
    "\n",
    "    h1 = delta_sys[0, 0]\n",
    "    h2 = delta_sys[1, 0]\n",
    "\n",
    "    \n",
    "plt.plot(time, h1_t, label='h1')\n",
    "plt.plot(time, h2_t, label='h2')\n",
    "plt.legend()"
   ]
  }
 ],
 "metadata": {
  "kernelspec": {
   "display_name": "Python 3.10.6 64-bit",
   "language": "python",
   "name": "python3"
  },
  "language_info": {
   "codemirror_mode": {
    "name": "ipython",
    "version": 3
   },
   "file_extension": ".py",
   "mimetype": "text/x-python",
   "name": "python",
   "nbconvert_exporter": "python",
   "pygments_lexer": "ipython3",
   "version": "3.10.6"
  },
  "orig_nbformat": 4,
  "vscode": {
   "interpreter": {
    "hash": "e7370f93d1d0cde622a1f8e1c04877d8463912d04d973331ad4851f04de6915a"
   }
  }
 },
 "nbformat": 4,
 "nbformat_minor": 2
}
