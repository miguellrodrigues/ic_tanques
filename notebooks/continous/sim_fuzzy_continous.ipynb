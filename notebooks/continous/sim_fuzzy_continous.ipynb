{
 "cells": [
  {
   "cell_type": "code",
   "execution_count": 13,
   "metadata": {},
   "outputs": [],
   "source": [
    "import matplotlib.pyplot as plt\n",
    "import numpy as np\n",
    "\n",
    "# from scipy.integrate import solve_ivp\n",
    "\n",
    "np.set_printoptions(precision=3, suppress=True)\n",
    "\n",
    "plt.style.use([\n",
    "    'grid',\n",
    "    'notebook',\n",
    "])"
   ]
  },
  {
   "cell_type": "code",
   "execution_count": 14,
   "metadata": {},
   "outputs": [],
   "source": [
    "Ts = 4\n",
    "tf = 10000\n",
    "\n",
    "iterations = int(tf / Ts)\n",
    "\n",
    "time = np.linspace(0, tf, iterations)\n",
    "\n",
    "r = .31\n",
    "mu = .40\n",
    "sigma = .55\n",
    "A2 = np.pi * r ** 2"
   ]
  },
  {
   "cell_type": "code",
   "execution_count": 15,
   "metadata": {},
   "outputs": [],
   "source": [
    "z1_bounds = np.load('./data/z1_bounds.npy')\n",
    "z2_bounds = np.load('./data/z2_bounds.npy')\n",
    "z3_bounds = np.load('./data/z3_bounds.npy')\n",
    "\n",
    "\n",
    "def M1(Z1):\n",
    "    return (z1_bounds[1] - Z1) / (z1_bounds[1] - z1_bounds[0])\n",
    "\n",
    "\n",
    "def N1(Z2):\n",
    "    return (z2_bounds[1] - Z2) / (z2_bounds[1] - z2_bounds[0])\n",
    "\n",
    "\n",
    "def O1(Z3):\n",
    "    return (z3_bounds[1] - Z3) / (z3_bounds[1] - z3_bounds[0])\n",
    "\n",
    "\n",
    "def M2(Z1):\n",
    "    return 1 - M1(Z1)\n",
    "\n",
    "\n",
    "def N2(Z2):\n",
    "    return 1 - N1(Z2)\n",
    "\n",
    "\n",
    "def O2(Z3):\n",
    "    return 1 - O1(Z3)\n",
    "\n",
    "\n",
    "pertinence_functions = np.array([\n",
    "    [M1, M2],\n",
    "    [N1, N2],\n",
    "    [O1, O2]\n",
    "])"
   ]
  },
  {
   "cell_type": "code",
   "execution_count": 24,
   "metadata": {},
   "outputs": [
    {
     "name": "stderr",
     "output_type": "stream",
     "text": [
      "/tmp/ipykernel_26150/3919116702.py:39: RuntimeWarning: overflow encountered in double_scalars\n",
      "  -(((h1 - 8) * 1e-2 - mu) ** 2) / (2 * sigma ** 2)))\n",
      "/tmp/ipykernel_26150/3919116702.py:36: RuntimeWarning: overflow encountered in double_scalars\n",
      "  q0 = (18.6367 * h2 + 700.6831)\n",
      "/tmp/ipykernel_26150/3919116702.py:62: RuntimeWarning: invalid value encountered in add\n",
      "  Ai = sum([A_matrices[j] * W[j] for j in range(n)])\n",
      "/tmp/ipykernel_26150/3919116702.py:63: RuntimeWarning: invalid value encountered in multiply\n",
      "  Bi = sum([B_matrices[j] * W[j] for j in range(n)])\n",
      "/tmp/ipykernel_26150/3919116702.py:63: RuntimeWarning: invalid value encountered in add\n",
      "  Bi = sum([B_matrices[j] * W[j] for j in range(n)])\n"
     ]
    }
   ],
   "source": [
    "h1_t = np.zeros(iterations)\n",
    "h2_t = np.zeros(iterations)\n",
    "\n",
    "h1_0 = 1e-3\n",
    "h2_0 = 1e-3\n",
    "\n",
    "h1_t[0] = h1_0\n",
    "h2_t[0] = h2_0\n",
    "\n",
    "h1 = h1_0\n",
    "h2 = h2_0\n",
    "\n",
    "n = 8\n",
    "\n",
    "A_matrices = [np.load(f'./data/vertices/A_{i}.npy') for i in range(n)]\n",
    "B_matrices = [np.load(f'./data/vertices/B_{i}.npy') for i in range(n)]\n",
    "\n",
    "u = np.zeros(iterations)\n",
    "\n",
    "u[:int(2500 / Ts)] = 5\n",
    "u[int(2500 / Ts):int(5000 / Ts)] = 0\n",
    "u[int(5000 / Ts):int(7500 / Ts)] = 0\n",
    "u[int(7500 / Ts):int(10000 / Ts)] = 0\n",
    "\n",
    "for i in range(1, iterations):\n",
    "    t = time[i]\n",
    "\n",
    "    H = np.array([\n",
    "        [h1],\n",
    "        [h2]\n",
    "    ])\n",
    "\n",
    "    diff = h1 - h2\n",
    "\n",
    "    R12 = (0.2371 * diff + 6.9192) * 1e-3\n",
    "    q0 = (18.6367 * h2 + 700.6831) * 1e-4\n",
    "    a1 = (3 * r / 5) * (\n",
    "                2.7 * r - ((np.cos(2.5 * np.pi * (h1 - 8) * 1e-2 - mu)) / (sigma * np.sqrt(2 * np.pi))) * np.exp(\n",
    "            -(((h1 - 8) * 1e-2 - mu) ** 2) / (2 * sigma ** 2)))\n",
    "\n",
    "    Z1 = 1 / R12\n",
    "    Z2 = q0 / h2\n",
    "    Z3 = 1 / a1\n",
    "    \n",
    "    mf_system = np.array([\n",
    "        [pertinence_functions[0, 1](Z1), pertinence_functions[0, 0](Z1)],\n",
    "        [pertinence_functions[1, 1](Z2), pertinence_functions[1, 0](Z2)],\n",
    "        [pertinence_functions[2, 1](Z3), pertinence_functions[2, 0](Z3)],\n",
    "    ])\n",
    "\n",
    "    W = np.array([\n",
    "        mf_system[0, 1] * mf_system[1, 1] * mf_system[2, 1],\n",
    "        mf_system[0, 1] * mf_system[1, 1] * mf_system[2, 0],\n",
    "        mf_system[0, 1] * mf_system[1, 0] * mf_system[2, 1],\n",
    "        mf_system[0, 1] * mf_system[1, 0] * mf_system[2, 0],\n",
    "        mf_system[0, 0] * mf_system[1, 1] * mf_system[2, 1],\n",
    "        mf_system[0, 0] * mf_system[1, 1] * mf_system[2, 0],\n",
    "        mf_system[0, 0] * mf_system[1, 0] * mf_system[2, 1],\n",
    "        mf_system[0, 0] * mf_system[1, 0] * mf_system[2, 0],\n",
    "    ])\n",
    "\n",
    "    Ai = sum([A_matrices[j] * W[j] for j in range(n)])\n",
    "    Bi = sum([B_matrices[j] * W[j] for j in range(n)])\n",
    "\n",
    "    delta_sys = Ai @ H + Bi * u[i]\n",
    "\n",
    "    h1 += delta_sys[0, 0] * Ts\n",
    "    h2 += delta_sys[1, 0] * Ts\n",
    "\n",
    "    h1_t[i] = h1\n",
    "    h2_t[i] = h2"
   ]
  },
  {
   "cell_type": "code",
   "execution_count": 17,
   "metadata": {
    "collapsed": false
   },
   "outputs": [],
   "source": [
    "h1_exp = np.load('./data/h1_exp.npy')[:-1]\n",
    "h2_exp = np.load('./data/h2_exp.npy')[:-1]\n",
    "t_exp = np.load('./data/exp_t.npy')[:-1]\n"
   ]
  },
  {
   "cell_type": "code",
   "execution_count": 23,
   "metadata": {},
   "outputs": [
    {
     "name": "stderr",
     "output_type": "stream",
     "text": [
      "No artists with labels found to put in legend.  Note that artists whose label start with an underscore are ignored when legend() is called with no argument.\n"
     ]
    },
    {
     "data": {
      "text/plain": [
       "[<matplotlib.lines.Line2D at 0x7f834636df60>]"
      ]
     },
     "execution_count": 23,
     "metadata": {},
     "output_type": "execute_result"
    }
   ],
   "source": [
    "plt.figure(1)\n",
    "plt.plot(time, h1_exp)\n",
    "plt.plot(time, h1_t - h1_0)\n",
    "\n",
    "plt.plot(time, h2_exp)\n",
    "plt.plot(time, h2_t - h2_0)\n",
    "\n",
    "plt.legend()\n",
    "\n",
    "plt.figure(2)\n",
    "plt.plot(time, u)"
   ]
  },
  {
   "cell_type": "code",
   "execution_count": 19,
   "metadata": {},
   "outputs": [],
   "source": [
    "np.save('./data/h3_py.npy', h1_t)\n",
    "np.save('./data/h4_py.npy', h2_t)"
   ]
  }
 ],
 "metadata": {
  "kernelspec": {
   "display_name": "Python 3.10.6 64-bit",
   "language": "python",
   "name": "python3"
  },
  "language_info": {
   "codemirror_mode": {
    "name": "ipython",
    "version": 3
   },
   "file_extension": ".py",
   "mimetype": "text/x-python",
   "name": "python",
   "nbconvert_exporter": "python",
   "pygments_lexer": "ipython3",
   "version": "3.10.6 (main, Nov 14 2022, 16:10:14) [GCC 11.3.0]"
  },
  "orig_nbformat": 4,
  "vscode": {
   "interpreter": {
    "hash": "31f2aee4e71d21fbe5cf8b01ff0e069b9275f58929596ceb00d14d90e3e16cd6"
   }
  }
 },
 "nbformat": 4,
 "nbformat_minor": 2
}
