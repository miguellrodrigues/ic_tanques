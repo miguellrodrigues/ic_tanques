{
 "cells": [
  {
   "cell_type": "code",
   "execution_count": 1,
   "metadata": {},
   "outputs": [],
   "source": [
    "import numpy as np\n",
    "import sympy as sp\n",
    "import matplotlib.pyplot as plt\n",
    "\n",
    "np.set_printoptions(6, suppress=True)\n",
    "\n",
    "plt.style.use([\n",
    "    'grid',\n",
    "    'notebook'\n",
    "])"
   ]
  },
  {
   "cell_type": "code",
   "execution_count": 2,
   "metadata": {},
   "outputs": [],
   "source": [
    "A_vertices = []\n",
    "B_vertices = []\n",
    "\n",
    "r = 31\n",
    "mu = 40\n",
    "sigma = 55\n",
    "A2 = np.pi * r**2\n",
    "\n",
    "Kb = 1.00502982*15.95"
   ]
  },
  {
   "cell_type": "code",
   "execution_count": 3,
   "metadata": {},
   "outputs": [
    {
     "name": "stdout",
     "output_type": "stream",
     "text": [
      "50.95138891906203 93.59027730097034\n",
      "19.45457326300063 45.97381393980925\n",
      "0.0006422795896986707 0.0006423904197378265\n"
     ]
    }
   ],
   "source": [
    "h1_interval = np.linspace(.5384281867997122, 45.48, 1000)\n",
    "h2_interval = np.linspace(.526796596990064, 33, 1000)\n",
    "\n",
    "Z1 = []\n",
    "Z2 = []\n",
    "Z3 = []\n",
    "\n",
    "c = 0\n",
    "min_diff = 2.5\n",
    "\n",
    "\n",
    "def R_34(diff):\n",
    "    return -0.000071183*diff**2 + 0.002279342*diff + 0.009212421\n",
    "\n",
    "def q_out(h4):\n",
    "    return -0.049605*h4**2+10.759176*h4+157.705535\n",
    "\n",
    "\n",
    "for i in range(len(h1_interval)):\n",
    "    h1 = h1_interval[i]\n",
    "    \n",
    "    for j in range(i, len(h1_interval)): \n",
    "        h2 = h2_interval[j]\n",
    "\n",
    "        diff = h1 - h2\n",
    "\n",
    "        if diff < min_diff:\n",
    "            continue\n",
    " \n",
    "        R34 = 0.7386225*R_34(diff)\n",
    "        qout = 1.39949213*q_out(h2)\n",
    "\n",
    "        a3 = (3 * r / 5) * (2.7 * r - ((np.cos(2.5*np.pi*(h1 - 8.) - mu)) / (sigma * np.sqrt(2 * np.pi))) * np.exp(-(((h1 - 8.) - mu)**2) / (2 * sigma ** 2)))\n",
    "\n",
    "        z1 = 1/R34\n",
    "        z2 = qout/h2\n",
    "        z3 = 1/a3\n",
    "\n",
    "        Z1.append(z1)\n",
    "        Z2.append(z2)\n",
    "        Z3.append(z3)\n",
    "\n",
    "\n",
    "min_z1, max_z1 = min(Z1), max(Z1)\n",
    "min_z2, max_z2 = min(Z2), max(Z2)\n",
    "min_z3, max_z3 = min(Z3), max(Z3)\n",
    "\n",
    "print(min_z1, max_z1)\n",
    "print(min_z2, max_z2)\n",
    "print(min_z3, max_z3)"
   ]
  },
  {
   "cell_type": "code",
   "execution_count": 4,
   "metadata": {},
   "outputs": [
    {
     "name": "stdout",
     "output_type": "stream",
     "text": [
      "[-0.051989 -0.004056]\n",
      "[-0.051995 -0.004056]\n",
      "[-0.055917 -0.008912]\n",
      "[-0.055922 -0.008913]\n",
      "[-0.093408 -0.004147]\n",
      "[-0.093418 -0.004147]\n",
      "[-0.096891 -0.009447]\n",
      "[-0.096901 -0.009448]\n"
     ]
    }
   ],
   "source": [
    "z1_bounds = np.array([min_z1, max_z1])\n",
    "z2_bounds = np.array([min_z2, max_z2])\n",
    "z3_bounds = np.array([min_z3, max_z3])\n",
    "\n",
    "np.save('./data/z1_bounds.npy', z1_bounds)\n",
    "np.save('./data/z2_bounds.npy', z2_bounds)\n",
    "np.save('./data/z3_bounds.npy', z3_bounds)\n",
    "\n",
    "for z1 in z1_bounds:\n",
    "    for z2 in z2_bounds:\n",
    "        for z3 in z3_bounds:\n",
    "            Ai = np.array([\n",
    "                [-z1*z3, z1*z3],\n",
    "                [z1/A2, (-z1-z2)/A2]\n",
    "            ])\n",
    "\n",
    "            Bi = np.array([\n",
    "                [Kb*z3],\n",
    "                [.0]\n",
    "            ])\n",
    "\n",
    "            print(\n",
    "                np.linalg.eigvals(Ai)\n",
    "            )\n",
    "\n",
    "            A_vertices.append(Ai)\n",
    "            B_vertices.append(Bi)"
   ]
  },
  {
   "cell_type": "code",
   "execution_count": 5,
   "metadata": {},
   "outputs": [],
   "source": [
    "Z1_, Z2_, Z3_ = sp.symbols('Z1 Z2 Z3')\n",
    "\n",
    "z1_min, z1_max = z1_bounds\n",
    "z2_min, z2_max = z2_bounds\n",
    "z3_min, z3_max = z3_bounds\n",
    "\n",
    "M1 = (z1_max - Z1_) / (z1_max - z1_min)\n",
    "N1 = (z2_max - Z2_) / (z2_max - z2_min)\n",
    "P1 = (z3_max - Z3_) / (z3_max - z3_min)\n",
    "\n",
    "M2 = 1 - M1\n",
    "N2 = 1 - N1\n",
    "P2 = 1 - P1"
   ]
  },
  {
   "cell_type": "code",
   "execution_count": 6,
   "metadata": {},
   "outputs": [
    {
     "name": "stdout",
     "output_type": "stream",
     "text": [
      " \n",
      "2.19495115498088 - 0.0234527690084974*Z1\n",
      "1.73360219849786 - 0.0377084703211171*Z2\n",
      "5796.17606048899 - 9022824.5664911*Z3\n",
      " \n",
      "0.0234527690084974*Z1 - 1.19495115498088\n",
      "0.0377084703211171*Z2 - 0.733602198497858\n",
      "9022824.5664911*Z3 - 5795.17606048899\n"
     ]
    }
   ],
   "source": [
    "print(' ')\n",
    "print(M1)\n",
    "print(N1)\n",
    "print(P1)\n",
    "print(' ')\n",
    "print(M2)\n",
    "print(N2)\n",
    "print(P2)"
   ]
  },
  {
   "cell_type": "code",
   "execution_count": 7,
   "metadata": {},
   "outputs": [],
   "source": [
    "from scipy.io import savemat\n",
    "\n",
    "for i in range(len(A_vertices)):\n",
    "    A = A_vertices[i]\n",
    "    B = B_vertices[i]\n",
    "    \n",
    "    mat = {\n",
    "        'A': A,\n",
    "        'B': B\n",
    "    }\n",
    "\n",
    "    savemat(f'./data/vertices/vertex_{i}.mat', mat)\n",
    "\n",
    "    np.save(f'./data/vertices/A_{i}', A)\n",
    "    np.save(f'./data/vertices/B_{i}', B)"
   ]
  }
 ],
 "metadata": {
  "kernelspec": {
   "display_name": "Python 3.10.6 64-bit",
   "language": "python",
   "name": "python3"
  },
  "language_info": {
   "codemirror_mode": {
    "name": "ipython",
    "version": 3
   },
   "file_extension": ".py",
   "mimetype": "text/x-python",
   "name": "python",
   "nbconvert_exporter": "python",
   "pygments_lexer": "ipython3",
   "version": "3.10.6"
  },
  "orig_nbformat": 4,
  "vscode": {
   "interpreter": {
    "hash": "e7370f93d1d0cde622a1f8e1c04877d8463912d04d973331ad4851f04de6915a"
   }
  }
 },
 "nbformat": 4,
 "nbformat_minor": 2
}
