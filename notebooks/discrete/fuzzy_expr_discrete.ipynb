{
 "cells": [
  {
   "cell_type": "code",
   "execution_count": 8,
   "metadata": {},
   "outputs": [],
   "source": [
    "import numpy as np\n",
    "import sympy as sp\n",
    "import matplotlib.pyplot as plt\n",
    "\n",
    "np.set_printoptions(6, suppress=True)\n",
    "\n",
    "plt.style.use([\n",
    "    'grid',\n",
    "    'notebook'\n",
    "])"
   ]
  },
  {
   "cell_type": "code",
   "execution_count": 9,
   "metadata": {},
   "outputs": [],
   "source": [
    "A_vertices = []\n",
    "B_vertices = []\n",
    "\n",
    "Ts = 2\n",
    "\n",
    "r = 31\n",
    "mu = 40\n",
    "sigma = 55\n",
    "A2 = np.pi * r**2\n",
    "\n",
    "Kb = 16"
   ]
  },
  {
   "cell_type": "code",
   "execution_count": 10,
   "metadata": {},
   "outputs": [
    {
     "name": "stdout",
     "output_type": "stream",
     "text": [
      "98.64632270088397 187.24987055323248\n",
      "37.750646157320645 458.9010654054198\n",
      "0.0012845587267060284 0.0012847810422593386\n"
     ]
    }
   ],
   "source": [
    "h1_interval = np.linspace(2, 55, 1000)\n",
    "h2_interval = np.linspace(.01, 35, 1000)\n",
    "\n",
    "Z1 = []\n",
    "Z2 = []\n",
    "Z3 = []\n",
    "\n",
    "c = 0\n",
    "min_diff = 2.5\n",
    "\n",
    "\n",
    "def R_34(diff):\n",
    "    return -0.000071183*diff**2 + 0.002279342*diff + 0.009212421\n",
    "\n",
    "def q_out(h4):\n",
    "    return -0.049605*h4**2+10.759176*h4+157.705535\n",
    "\n",
    "\n",
    "for i in range(len(h1_interval)):\n",
    "    h1 = h1_interval[i]\n",
    "    \n",
    "    for j in range(i, len(h1_interval)): \n",
    "        h2 = h2_interval[j]\n",
    "\n",
    "        diff = h1 - h2\n",
    "\n",
    "        if diff < min_diff:\n",
    "            continue\n",
    "\n",
    "        R34 = 0.73835215*R_34(diff)\n",
    "        qout = 1.39518809*q_out(h2)\n",
    "\n",
    "        a3 = (3 * r / 5) * (2.7 * r - ((np.cos(2.5*np.pi*(h1 - 8.) - mu)) / (sigma * np.sqrt(2 * np.pi))) * np.exp(-(((h1 - 8.) - mu)**2) / (2 * sigma ** 2)))\n",
    "\n",
    "        z1 = Ts/R34\n",
    "        z2 = (Ts*qout)/h2\n",
    "        z3 = Ts/a3\n",
    "\n",
    "        Z1.append(z1)\n",
    "        Z2.append(z2)\n",
    "        Z3.append(z3)\n",
    "\n",
    "\n",
    "min_z1, max_z1 = min(Z1), max(Z1)\n",
    "min_z2, max_z2 = min(Z2), max(Z2)\n",
    "min_z3, max_z3 = min(Z3), max(Z3)\n",
    "\n",
    "print(min_z1, max_z1)\n",
    "print(min_z2, max_z2)\n",
    "print(min_z3, max_z3)"
   ]
  },
  {
   "cell_type": "code",
   "execution_count": 11,
   "metadata": {},
   "outputs": [
    {
     "name": "stdout",
     "output_type": "stream",
     "text": [
      "[0.837878 0.990227]\n",
      "[0.837856 0.990226]\n",
      "[0.914874 0.773733]\n",
      "[0.914864 0.773722]\n",
      "[0.694795 0.990146]\n",
      "[0.694753 0.990145]\n",
      "[0.649863 0.89558 ]\n",
      "[0.64983  0.895572]\n"
     ]
    }
   ],
   "source": [
    "z1_bounds = np.array([min_z1, max_z1])\n",
    "z2_bounds = np.array([min_z2, max_z2])\n",
    "z3_bounds = np.array([min_z3, max_z3])\n",
    "\n",
    "np.save('./data/z1_bounds.npy', z1_bounds)\n",
    "np.save('./data/z2_bounds.npy', z2_bounds)\n",
    "np.save('./data/z3_bounds.npy', z3_bounds)\n",
    "\n",
    "for z1 in z1_bounds:\n",
    "    for z2 in z2_bounds:\n",
    "        for z3 in z3_bounds:\n",
    "            Ai = np.array([\n",
    "                [1 - z1*z3, z1*z3],\n",
    "                [z1/A2, 1 + (-z1-z2)/A2]\n",
    "            ])\n",
    "\n",
    "            Bi = np.array([\n",
    "                [Ts*Kb*z3],\n",
    "                [.0]\n",
    "            ])\n",
    "\n",
    "            print(\n",
    "                np.abs(np.linalg.eigvals(Ai))\n",
    "            )\n",
    "\n",
    "            A_vertices.append(Ai)\n",
    "            B_vertices.append(Bi)"
   ]
  },
  {
   "cell_type": "code",
   "execution_count": 12,
   "metadata": {},
   "outputs": [],
   "source": [
    "Z1_, Z2_, Z3_ = sp.symbols('Z1 Z2 Z3')\n",
    "\n",
    "z1_min, z1_max = z1_bounds\n",
    "z2_min, z2_max = z2_bounds\n",
    "z3_min, z3_max = z3_bounds\n",
    "\n",
    "M1 = (z1_max - Z1_) / (z1_max - z1_min)\n",
    "N1 = (z2_max - Z2_) / (z2_max - z2_min)\n",
    "P1 = (z3_max - Z3_) / (z3_max - z3_min)\n",
    "\n",
    "M2 = 1 - M1\n",
    "N2 = 1 - N1\n",
    "P2 = 1 - P1"
   ]
  },
  {
   "cell_type": "code",
   "execution_count": 13,
   "metadata": {},
   "outputs": [
    {
     "name": "stdout",
     "output_type": "stream",
     "text": [
      " \n",
      "2.11334506452576 - 0.0112862297756567*Z1\n",
      "1.08963696682225 - 0.00237444854450187*Z2\n",
      "5779.08753179388 - 4498110.83889526*Z3\n",
      " \n",
      "0.0112862297756567*Z1 - 1.11334506452576\n",
      "0.00237444854450187*Z2 - 0.089636966822255\n",
      "4498110.83889526*Z3 - 5778.08753179388\n"
     ]
    }
   ],
   "source": [
    "print(' ')\n",
    "print(M1)\n",
    "print(N1)\n",
    "print(P1)\n",
    "print(' ')\n",
    "print(M2)\n",
    "print(N2)\n",
    "print(P2)"
   ]
  },
  {
   "cell_type": "code",
   "execution_count": 14,
   "metadata": {},
   "outputs": [],
   "source": [
    "for i in range(len(A_vertices)):\n",
    "    A = A_vertices[i]\n",
    "    B = B_vertices[i]\n",
    "    \n",
    "    np.save(f'./data/vertices/A_{i}', A)\n",
    "    np.save(f'./data/vertices/B_{i}', B)"
   ]
  }
 ],
 "metadata": {
  "kernelspec": {
   "display_name": "Python 3",
   "language": "python",
   "name": "python3"
  },
  "language_info": {
   "codemirror_mode": {
    "name": "ipython",
    "version": 3
   },
   "file_extension": ".py",
   "mimetype": "text/x-python",
   "name": "python",
   "nbconvert_exporter": "python",
   "pygments_lexer": "ipython3",
   "version": "3.10.6"
  },
  "orig_nbformat": 4,
  "vscode": {
   "interpreter": {
    "hash": "e7370f93d1d0cde622a1f8e1c04877d8463912d04d973331ad4851f04de6915a"
   }
  }
 },
 "nbformat": 4,
 "nbformat_minor": 2
}
