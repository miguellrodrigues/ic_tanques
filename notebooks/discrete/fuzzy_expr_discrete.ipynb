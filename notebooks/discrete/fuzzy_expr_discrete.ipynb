{
 "cells": [
  {
   "cell_type": "code",
   "execution_count": 51,
   "metadata": {},
   "outputs": [],
   "source": [
    "import numpy as np\n",
    "import sympy as sp\n",
    "import matplotlib.pyplot as plt\n",
    "\n",
    "np.set_printoptions(6, suppress=True)\n",
    "\n",
    "plt.style.use([\n",
    "    'grid',\n",
    "    'notebook'\n",
    "])"
   ]
  },
  {
   "cell_type": "code",
   "execution_count": 52,
   "metadata": {},
   "outputs": [],
   "source": [
    "A_vertices = []\n",
    "B_vertices = []\n",
    "\n",
    "Ts = 4\n",
    "\n",
    "r = .31\n",
    "mu = .4\n",
    "sigma = .55\n",
    "A2 = np.pi * r**2\n",
    "\n",
    "Kb = 15.92e-4"
   ]
  },
  {
   "cell_type": "code",
   "execution_count": 53,
   "metadata": {},
   "outputs": [
    {
     "name": "stdout",
     "output_type": "stream",
     "text": [
      "0.0317218627077782 0.04795128149799804\n",
      "0.0130601448 0.03081078333333333\n",
      "3.4476944509493617 18.456983136119643\n"
     ]
    }
   ],
   "source": [
    "h1_interval = np.linspace(20, 74, 1000)\n",
    "h2_interval = np.linspace(12, 50, 1000)\n",
    "\n",
    "Z1 = []\n",
    "Z2 = []\n",
    "Z3 = []\n",
    "\n",
    "min_diff = 6\n",
    "\n",
    "for i in range(len(h1_interval)):\n",
    "    h1 = h1_interval[i]\n",
    "    \n",
    "    for j in range(i, len(h1_interval)): \n",
    "        h2 = h2_interval[j]\n",
    "\n",
    "        diff = h1 - h2\n",
    "\n",
    "        if diff < min_diff:\n",
    "            continue\n",
    "\n",
    "        R12 = (0.2371*diff+6.9192)*10\n",
    "        q0  = (18.6367*h2+700.6831)*1e-4\n",
    "        a1  = (3*r/5)*(2.7*r-((np.cos(2.5*np.pi*(h1-8)*1e-2-mu))/(sigma*np.sqrt(2*np.pi)))*np.exp(-(((h1-8)*1e-2-mu)**2)/(2*sigma**2)))\n",
    "\n",
    "        z1 = Ts/R12\n",
    "        z2 = (Ts*q0)/h2\n",
    "        z3 = 1/a1\n",
    "\n",
    "        Z1.append(z1)\n",
    "        Z2.append(z2)\n",
    "        Z3.append(z3)\n",
    "\n",
    "\n",
    "min_z1, max_z1 = min(Z1), max(Z1)\n",
    "min_z2, max_z2 = min(Z2), max(Z2)\n",
    "min_z3, max_z3 = min(Z3), max(Z3)\n",
    "\n",
    "print(min_z1, max_z1)\n",
    "print(min_z2, max_z2)\n",
    "print(min_z3, max_z3)"
   ]
  },
  {
   "cell_type": "code",
   "execution_count": 54,
   "metadata": {},
   "outputs": [
    {
     "name": "stdout",
     "output_type": "stream",
     "text": [
      "[0.980105 0.762197]\n",
      "[0.302491 0.963688]\n",
      "[0.959569 0.723938]\n",
      "[0.29175  0.915635]\n",
      "[0.979377 0.653214]\n",
      "[0.050684 0.963561]\n",
      "[0.955838 0.617959]\n",
      "[0.060771 0.914853]\n"
     ]
    }
   ],
   "source": [
    "z1_bounds = np.array([min_z1, max_z1])\n",
    "z2_bounds = np.array([min_z2, max_z2])\n",
    "z3_bounds = np.array([min_z3, max_z3])\n",
    "\n",
    "np.save('./data/z1_bounds.npy', z1_bounds)\n",
    "np.save('./data/z2_bounds.npy', z2_bounds)\n",
    "np.save('./data/z3_bounds.npy', z3_bounds)\n",
    "\n",
    "for z1 in z1_bounds:\n",
    "    for z2 in z2_bounds:\n",
    "        for z3 in z3_bounds:\n",
    "            Ai = np.array([\n",
    "                [1 - z1*z3, z1*z3],\n",
    "                [z1/A2, 1 - (z1+z2)/A2]\n",
    "            ])\n",
    "\n",
    "            Bi = np.array([\n",
    "                [Ts*Kb*z3],\n",
    "                [.0]\n",
    "            ])\n",
    "\n",
    "            print(\n",
    "                np.abs(np.linalg.eigvals(Ai))\n",
    "            )\n",
    "\n",
    "            A_vertices.append(Ai)\n",
    "            B_vertices.append(Bi)"
   ]
  },
  {
   "cell_type": "code",
   "execution_count": 55,
   "metadata": {},
   "outputs": [],
   "source": [
    "Z1_, Z2_, Z3_ = sp.symbols('Z1 Z2 Z3')\n",
    "\n",
    "z1_min, z1_max = z1_bounds\n",
    "z2_min, z2_max = z2_bounds\n",
    "z3_min, z3_max = z3_bounds\n",
    "\n",
    "M1 = (z1_max - Z1_) / (z1_max - z1_min)\n",
    "N1 = (z2_max - Z2_) / (z2_max - z2_min)\n",
    "P1 = (z3_max - Z3_) / (z3_max - z3_min)\n",
    "\n",
    "M2 = 1 - M1\n",
    "N2 = 1 - N1\n",
    "P2 = 1 - P1"
   ]
  },
  {
   "cell_type": "code",
   "execution_count": 56,
   "metadata": {},
   "outputs": [
    {
     "name": "stdout",
     "output_type": "stream",
     "text": [
      " \n",
      "2.95459018698158 - 61.6165010544074*Z1\n",
      "1.73575633774947 - 56.3360015540925*Z2\n",
      "1.22970405348761 - 0.0666254091699919*Z3\n",
      " \n",
      "61.6165010544074*Z1 - 1.95459018698158\n",
      "56.3360015540925*Z2 - 0.735756337749472\n",
      "0.0666254091699919*Z3 - 0.229704053487612\n"
     ]
    }
   ],
   "source": [
    "print(' ')\n",
    "print(M1)\n",
    "print(N1)\n",
    "print(P1)\n",
    "print(' ')\n",
    "print(M2)\n",
    "print(N2)\n",
    "print(P2)"
   ]
  },
  {
   "cell_type": "code",
   "execution_count": 57,
   "metadata": {},
   "outputs": [],
   "source": [
    "for i in range(len(A_vertices)):\n",
    "    A = A_vertices[i]\n",
    "    B = B_vertices[i]\n",
    "    \n",
    "    np.save(f'./data/vertices/A_{i}', A)\n",
    "    np.save(f'./data/vertices/B_{i}', B)"
   ]
  },
  {
   "cell_type": "code",
   "execution_count": 58,
   "metadata": {},
   "outputs": [],
   "source": [
    "from scipy.io import savemat\n",
    "\n",
    "mats_dict = {}\n",
    "\n",
    "for i in range(len(A_vertices)):\n",
    "    A = A_vertices[i]\n",
    "    B = B_vertices[i]\n",
    "    \n",
    "    mats_dict[f'A{i}'] = A\n",
    "    mats_dict[f'B{i}'] = B\n",
    "\n",
    "savemat(f'./data/vertices_{Ts}_Ts.mat', mats_dict)"
   ]
  }
 ],
 "metadata": {
  "kernelspec": {
   "display_name": "Python 3.10.6 64-bit",
   "language": "python",
   "name": "python3"
  },
  "language_info": {
   "codemirror_mode": {
    "name": "ipython",
    "version": 3
   },
   "file_extension": ".py",
   "mimetype": "text/x-python",
   "name": "python",
   "nbconvert_exporter": "python",
   "pygments_lexer": "ipython3",
   "version": "3.10.6"
  },
  "orig_nbformat": 4,
  "vscode": {
   "interpreter": {
    "hash": "e7370f93d1d0cde622a1f8e1c04877d8463912d04d973331ad4851f04de6915a"
   }
  }
 },
 "nbformat": 4,
 "nbformat_minor": 2
}
