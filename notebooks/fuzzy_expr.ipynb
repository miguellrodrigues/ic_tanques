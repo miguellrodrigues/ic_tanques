{
 "cells": [
  {
   "cell_type": "code",
   "execution_count": 13,
   "metadata": {},
   "outputs": [],
   "source": [
    "import numpy as np\n",
    "import sympy as sp\n",
    "import matplotlib.pyplot as plt\n",
    "\n",
    "np.set_printoptions(6, suppress=True)\n",
    "\n",
    "plt.style.use([\n",
    "    'grid',\n",
    "    'notebook'\n",
    "])"
   ]
  },
  {
   "cell_type": "code",
   "execution_count": 14,
   "metadata": {},
   "outputs": [],
   "source": [
    "A_vertices = []\n",
    "B_vertices = []\n",
    "\n",
    "Ts = .1\n",
    "\n",
    "r = .31\n",
    "mu = .4\n",
    "sigma = .55\n",
    "A2 = np.pi * r**2\n",
    "\n",
    "Kb = 15.92e-4"
   ]
  },
  {
   "cell_type": "code",
   "execution_count": 15,
   "metadata": {},
   "outputs": [
    {
     "name": "stdout",
     "output_type": "stream",
     "text": [
      "[ 3.482853 -0.005583]\n",
      "[11.231286 -0.009269]\n",
      "[ 3.47575  -0.013055]\n",
      "[11.229074 -0.021631]\n",
      "[-15.594097  -0.005573]\n",
      "[-50.201618  -0.009267]\n",
      "[-15.601246  -0.012997]\n",
      "[-50.203837  -0.021622]\n"
     ]
    }
   ],
   "source": [
    "z1_bounds = np.array([-.5160, 2.3060])\n",
    "z2_bounds = np.array([.0033, .0077])\n",
    "z3_bounds = np.array([3.4478, 18.4570])\n",
    "\n",
    "for z1 in z1_bounds:\n",
    "    for z2 in z2_bounds:\n",
    "        for z3 in z3_bounds:\n",
    "            Ai = np.array([\n",
    "                [-z1*z3, z1*z3],\n",
    "                [z1/A2, (-z1-z2)/A2]\n",
    "            ])\n",
    "\n",
    "            Bi = np.array([\n",
    "                [Kb*z3],\n",
    "                [.0]\n",
    "            ])\n",
    "\n",
    "            print(\n",
    "                np.linalg.eigvals(Ai)\n",
    "            )\n",
    "\n",
    "            A_vertices.append(Ai)\n",
    "            B_vertices.append(Bi)"
   ]
  },
  {
   "cell_type": "code",
   "execution_count": 16,
   "metadata": {},
   "outputs": [],
   "source": [
    "Z1_, Z2_, Z3_ = sp.symbols('Z1 Z2 Z3')\n",
    "\n",
    "z1_min, z1_max = z1_bounds\n",
    "z2_min, z2_max = z2_bounds\n",
    "z3_min, z3_max = z3_bounds\n",
    "\n",
    "M1 = (Z1_ - z1_min) / (z1_max - z1_min)\n",
    "N1 = (Z2_ - z2_min) / (z2_max - z2_min)\n",
    "P1 = (Z3_ - z3_min) / (z3_max - z3_min)\n",
    "\n",
    "M2 = 1 - M1\n",
    "N2 = 1 - N1\n",
    "P2 = 1 - P1"
   ]
  },
  {
   "cell_type": "code",
   "execution_count": 17,
   "metadata": {},
   "outputs": [
    {
     "name": "stdout",
     "output_type": "stream",
     "text": [
      " \n",
      "0.354358610914245*Z1 + 0.182849043231751\n",
      "227.272727272727*Z2 - 0.75\n",
      "0.0666258028409242*Z3 - 0.229712443034939\n",
      " \n",
      "0.817150956768249 - 0.354358610914245*Z1\n",
      "1.75 - 227.272727272727*Z2\n",
      "1.22971244303494 - 0.0666258028409242*Z3\n"
     ]
    }
   ],
   "source": [
    "print(' ')\n",
    "print(M1)\n",
    "print(N1)\n",
    "print(P1)\n",
    "print(' ')\n",
    "print(M2)\n",
    "print(N2)\n",
    "print(P2)"
   ]
  },
  {
   "cell_type": "code",
   "execution_count": 18,
   "metadata": {},
   "outputs": [],
   "source": [
    "for i in range(len(A_vertices)):\n",
    "    A = A_vertices[i]\n",
    "    B = B_vertices[i]\n",
    "    \n",
    "    np.save(f'./data/vertices/A_{i}', A)\n",
    "    np.save(f'./data/vertices/B_{i}', B)"
   ]
  }
 ],
 "metadata": {
  "kernelspec": {
   "display_name": "Python 3.10.6 64-bit",
   "language": "python",
   "name": "python3"
  },
  "language_info": {
   "codemirror_mode": {
    "name": "ipython",
    "version": 3
   },
   "file_extension": ".py",
   "mimetype": "text/x-python",
   "name": "python",
   "nbconvert_exporter": "python",
   "pygments_lexer": "ipython3",
   "version": "3.10.6"
  },
  "orig_nbformat": 4,
  "vscode": {
   "interpreter": {
    "hash": "e7370f93d1d0cde622a1f8e1c04877d8463912d04d973331ad4851f04de6915a"
   }
  }
 },
 "nbformat": 4,
 "nbformat_minor": 2
}
